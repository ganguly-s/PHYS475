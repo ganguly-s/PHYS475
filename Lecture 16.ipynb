{
 "cells": [
  {
   "cell_type": "markdown",
   "id": "3efb79d1",
   "metadata": {},
   "source": [
    "# Ordinary Differential Equations\n",
    "\n",
    "## Euler Method\n",
    "\n",
    "Consider the general form of first-order ordinary differential equation in one variable:\n",
    "$$ \\frac{dx}{dt} = f(x,t) $$\n",
    "along with an initial condition that fixes the value of $x$ for some $t$. Then we can write the value of $x$ a short interval $h$ later using a Taylor series expansion:\n",
    "$$ x(t+h) = x(t) + h\\frac{dx}{dt} + \\frac{1}{2} h^2\\frac{d^2x}{dt^2} + ... = x(t) + hf(x,t) + \\mathcal{O} $$\n",
    "If $h$ is small, we can ignore higher order terms and get\n",
    "$$ x(t+h) = x(t) + hf(x,t) $$\n",
    "Thus, with the initial value $x(t)$, one can predict subsequent values.  \n",
    "This method is more useful in solving partial differential equations.  \n",
    "There are unavoidable approximation errors to this method, which  cumulatively increase after several steps. The cumulative error is given by\n",
    "$$ \\epsilon = \\frac{1}{2}h[f(x(b),b) - f(x(a),a)] $$\n",
    "Thus, the error falls of linearly with $h$. But $h$ being too small, increases the number of steps, which is computationally expensive."
   ]
  },
  {
   "cell_type": "markdown",
   "id": "75730cb7",
   "metadata": {},
   "source": [
    "### Use Euler's method to solve the differential equation\n",
    "$$\\frac{dx}{dt} = -x^3 + \\sin t $$\n",
    "with the intial condition, $x=0$ at $t=0$. Plot the result from $t=0$ to $t=10$."
   ]
  },
  {
   "cell_type": "code",
   "execution_count": null,
   "id": "739b77c8",
   "metadata": {},
   "outputs": [],
   "source": [
    "import numpy as np\n",
    "import matplotlib.pyplot as plt\n",
    "\n",
    "def f(x,t):\n",
    "    return \n",
    "\n",
    "a  = 0.0\n",
    "b  = 10.0\n",
    "N  = 1000\n",
    "h  = (b-a)/N\n",
    "x0 =       # initial condition\n",
    "\n",
    "t = np.arange(a,b,h)\n",
    "x = []\n",
    "\n",
    "for tval in t:\n",
    "    x.append(x0)\n",
    "    x0 += \n",
    "    \n",
    "plt.plot(t,x)\n",
    "plt.ylabel('x(t)')\n",
    "plt.xlabel('t')"
   ]
  },
  {
   "cell_type": "markdown",
   "id": "80db9b50",
   "metadata": {},
   "source": [
    "## Runge-Kutta (RK) method\n",
    "\n",
    "Euler's method is the first-order RK method.  \n",
    "The second-order RK method is also sometimes called the *midpoint method*. The error for RK-2 is $\\sim h^3$ (more accurate than Euler -- $\\mathcal{O}(h^2)$.  \n",
    "The most common method, however, is the RK-4 method, which provides maximum accuracy while being relatively simpler to program. These are the equations used to solve an ODE using RK-4:\n",
    "$$\n",
    "\\begin{align}\n",
    "k_1 =& hf(x,t)\\\\\n",
    "k_2 =& hf(x+\\frac{1}{2}k_1, t+\\frac{1}{2}h) \\\\\n",
    "k_3 =& hf(x+\\frac{1}{2}k_2, t+\\frac{1}{2}h) \\\\\n",
    "k_4 =& hf(x+k_3, t+h) \\\\\n",
    "x(t+h) =& x(t) + \\frac{1}{6} (k_1+2k_2+2k_3+k_4)\n",
    "\\end{align}\n",
    "$$\n",
    "This method is accurate to $\\mathcal{O}(h^5)$."
   ]
  },
  {
   "cell_type": "code",
   "execution_count": null,
   "id": "f7ef9031",
   "metadata": {},
   "outputs": [],
   "source": [
    "# write your own code to solve the previous ODE using RK4 algorithm"
   ]
  },
  {
   "cell_type": "markdown",
   "id": "fb51d69e",
   "metadata": {},
   "source": [
    "## Solutions over Infinite Ranges\n",
    "\n",
    "$$ \\frac{dx}{dt} = \\frac{1}{x^2+t^2} $$\n",
    "from $t=0$ to $t=\\infty$ with $x=1$ at $t=0$.  \n",
    "With the substitution,\n",
    "$$ u = \\frac{t}{1+t} \\implies t = \\frac{u}{1-u} $$\n",
    "the above equation takes the form:\n",
    "$$\\frac{dx}{du} = \\frac{1}{x^2(1-u)^2 + u^2} $$"
   ]
  },
  {
   "cell_type": "code",
   "execution_count": null,
   "id": "dfb1f0c8",
   "metadata": {},
   "outputs": [],
   "source": [
    "def g(x,u):\n",
    "    return 1/(x**2*(1-u)**2+u**2)\n",
    "\n",
    "a = 0.0\n",
    "b = 1.0\n",
    "N = 100\n",
    "h = (b-a)/N\n",
    "\n",
    "u = np.arange(a,b,h)\n",
    "t = []\n",
    "x = []\n",
    "\n",
    "x0 = 1.0\n",
    "for uval in u:\n",
    "    t.append(uval/(1-uval))\n",
    "    x.append(x0)\n",
    "    \n",
    "\n",
    "plt.plot(t,x)\n",
    "plt.xlim(0,80)\n",
    "plt.xlabel(\"t\")\n",
    "plt.ylabel(\"x(t)\")\n",
    "plt.show()"
   ]
  },
  {
   "cell_type": "markdown",
   "id": "8b246709",
   "metadata": {},
   "source": [
    "# Try it yourself\n",
    "\n",
    "### Total 4 marks\n",
    "\n",
    "Upload the RK4 method you coded during the class."
   ]
  }
 ],
 "metadata": {
  "kernelspec": {
   "display_name": "Python 3 (ipykernel)",
   "language": "python",
   "name": "python3"
  },
  "language_info": {
   "codemirror_mode": {
    "name": "ipython",
    "version": 3
   },
   "file_extension": ".py",
   "mimetype": "text/x-python",
   "name": "python",
   "nbconvert_exporter": "python",
   "pygments_lexer": "ipython3",
   "version": "3.8.5"
  }
 },
 "nbformat": 4,
 "nbformat_minor": 5
}
