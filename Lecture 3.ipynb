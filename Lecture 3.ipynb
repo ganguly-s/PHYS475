{
 "cells": [
  {
   "cell_type": "markdown",
   "id": "d00a4b3e-d7f5-4873-aac8-7e28fd71e8c5",
   "metadata": {},
   "source": [
    "# Visualization with Python\n",
    "\n",
    "## Matplotlib -- Pyplot\n",
    "**Matplotlib** is a library for creating visualizations (in 2D and 3D), including animations, 2D (interactive) graphs, histograms, etc.  \n",
    "**Pyplot** is an interface to matplolib. It is a collection of functions that make matplotlib work like MATLAB (has similar commands). It also uses NumPy array objects to store the data to plot."
   ]
  },
  {
   "cell_type": "code",
   "execution_count": 2,
   "id": "161209b9-f4fa-4366-91ba-baa3cf15448d",
   "metadata": {},
   "outputs": [],
   "source": [
    "# you can import the functionalities of matplotlib through pyplot as follows\n",
    "import matplotlib.pyplot as plt\n",
    "# or the following\n",
    "from matplotlib import pyplot as plt"
   ]
  },
  {
   "cell_type": "markdown",
   "id": "955a05ea-2a4c-4aa1-8d90-294a6c2e22a4",
   "metadata": {},
   "source": [
    "### Plotting a sine function"
   ]
  },
  {
   "cell_type": "code",
   "execution_count": null,
   "id": "e63e3313-ab40-4708-8738-94cbcbeec504",
   "metadata": {},
   "outputs": [],
   "source": [
    "import numpy as np\n",
    "\n",
    "x = np.linspace(0,10,100)\n",
    "y = np.sin(x)\n",
    "\n",
    "plt.plot(x,y)\n",
    "plt.xlabel(r\"$x$\")\n",
    "plt.ylabel(r\"$\\sin x$\")\n",
    "# plt.grid()\n",
    "# plt.title(r\"$\\sin x$ vs. $x$\")\n",
    "# plt.xlim(0,10)\n",
    "# plt.ylim(-1,1)\n",
    "# changing linestyles, markers, color, thickness, font style and size\n",
    "# plt.rcParams['font.family'] = 'serif'\n",
    "# plt.rcParams['font.size'] = 8\n",
    "plt.show()"
   ]
  },
  {
   "cell_type": "markdown",
   "id": "0629429d-2ce0-41f6-ba02-b5ecb7734683",
   "metadata": {},
   "source": [
    "### The Hertzsprung-Russell (HR) Diagram \n",
    "The HR diagram is the distribution of stars in the magnitude-temperature phase space.  \n",
    "Download the text file provided in the Github Class Repo named \"star.txt\".  \n",
    "Now extract the data using the numpy.loadtxt() function and plot it (as above). Make it a scatter plot."
   ]
  },
  {
   "cell_type": "code",
   "execution_count": null,
   "id": "dc805c85-4ed8-41ae-b3b7-4a9671f89ca3",
   "metadata": {},
   "outputs": [],
   "source": [
    "# scatter plot showing the HR diagram"
   ]
  },
  {
   "cell_type": "markdown",
   "id": "14e53028-5418-4485-8970-0f66bc4e2e4c",
   "metadata": {},
   "source": [
    "## Subplots"
   ]
  },
  {
   "cell_type": "code",
   "execution_count": null,
   "id": "d92c936e-ce48-4cb8-8575-50a7efd2a18c",
   "metadata": {},
   "outputs": [],
   "source": [
    "# using the variable axs for multiple Axes\n",
    "row, col = 2, 2\n",
    "sub_plot_num = row*col\n",
    "fig, axs = plt.subplots(2, 2)\n",
    "data = np.loadtxt(\"stars.txt\")\n",
    "np.random.shuffle(data)\n",
    "temp = data[:,0]\n",
    "mag = data[:,1]\n",
    "# data\n",
    "datdiv = int(len(data)/sub_plot_num)\n",
    "for r in range(row):\n",
    "    for c in range(col):\n",
    "        axs[r][c].plot(temp[(r+c)*datdiv:(r+c+1)*datdiv],mag[(r+c)*datdiv:(r+c+1)*datdiv],ls='',marker='o')\n",
    "        \n",
    "plt.show()"
   ]
  },
  {
   "cell_type": "markdown",
   "id": "d13965d8-862f-4817-966b-58632e0af99e",
   "metadata": {},
   "source": [
    "## Plotting 3D data\n",
    "There are two ways to plot 3D data in matplotlib: a contour plot or a surface (or projection) plot."
   ]
  },
  {
   "cell_type": "markdown",
   "id": "31ce8eb4-5daf-4550-b7ef-4282cb8dd28d",
   "metadata": {},
   "source": [
    "### Plotting the potential of a point mass\n",
    "The gravitational potential of a point mass is\n",
    "$$ V \\propto -\\frac{M}{r} $$\n",
    "where $r=\\sqrt{x^2+y^2}$. Note that at $r=0$, the potential function blows up (for numerical purpose, we will add a smoothing value $\\delta$ to avoid this)."
   ]
  },
  {
   "cell_type": "code",
   "execution_count": null,
   "id": "46706cad-cbe6-4746-954f-b5354da16ff0",
   "metadata": {},
   "outputs": [],
   "source": [
    "import numpy as np\n",
    "import matplotlib.pyplot  as plt\n",
    "from mpl_toolkits.mplot3d import Axes3D        \n",
    "\n",
    "# to make 3-D plot, need Axes3D package from matplot tool kit\n",
    "x = np.arange( -3., 3., 0.1 )\n",
    "y = np.arange( -3., 3., 0.1 )\n",
    "X, Y = np.meshgrid(x, y)                 # set coordinate grid matrix, X, Y are 2D array\n",
    "delta = 0.1                             # smoothing length to avoid singularity\n",
    "Z = -1./np.sqrt(X*X+Y*Y+delta*delta)   # value of potential (without some constants, and the mass)\n",
    "\n",
    "# experiment with this, what happens when you add a mass term and increase or decrease it?\n",
    "\n",
    "fig = plt.figure(figsize=(5,4))\n",
    "levels=np.arange(Z.min(),Z.max(),(Z.max() - Z.min())/100.)\n",
    "CS = plt.contour(x,y,Z, levels=levels)\n",
    "plt.xlabel('X')\n",
    "plt.ylabel('Y')\n",
    "plt.colorbar(CS)\n",
    "plt.show()"
   ]
  },
  {
   "cell_type": "code",
   "execution_count": null,
   "id": "9968cb40-669e-4ae4-bc9b-fe9dd8ff0cdf",
   "metadata": {},
   "outputs": [],
   "source": [
    "fig, ax = plt.subplots()\n",
    "c = ax.pcolormesh(x, y, Z, vmin=Z.min(), vmax=Z.max())\n",
    "# set the limits of the plot to the limits of the data\n",
    "ax.axis([x.min(), x.max(), y.min(), y.max()])\n",
    "fig.colorbar(c, ax=ax)\n",
    "plt.show()"
   ]
  },
  {
   "cell_type": "code",
   "execution_count": null,
   "id": "b79c756b-b83b-4229-bd66-8ffbda90e987",
   "metadata": {},
   "outputs": [],
   "source": [
    "fig = plt.figure(figsize=(12,12))                    # Create figure\n",
    "#ax = Axes3D(fig)                                   # Plots axes\n",
    "ax = fig.add_subplot(2,2,1,projection='3d')         # the 2 by 2, 4 subplots, the first one\n",
    "ax.plot_surface(X, Y, Z)                            # Surface\n",
    "ax.plot_wireframe(X, Y, Z, color = 'r')             # Add wireframe\n",
    "ax.set_xlabel(r'$x$')\n",
    "ax.set_ylabel(r'$y$')\n",
    "ax.zaxis.set_rotate_label(False)  # disable automatic rotation\n",
    "ax.set_zlabel(r'$V(x,y)$',rotation=0)\n",
    "ax.set_box_aspect(aspect=None, zoom=0.78)\n",
    "plt.show()"
   ]
  },
  {
   "cell_type": "markdown",
   "id": "ffc2ea96",
   "metadata": {},
   "source": [
    "## Animation\n",
    "\n",
    "There are two options: \n",
    "* `FuncAnimation` -- generates data for first frame and then modifies the data for each frame to create the animation\n",
    "* `ArtistAnimation` -- genrates a list of artists that will draw in each frame in the animation  \n",
    "\n",
    "Former is faster and more efficient, while the latter is more flexible."
   ]
  },
  {
   "cell_type": "code",
   "execution_count": null,
   "id": "bdfd3a99",
   "metadata": {},
   "outputs": [],
   "source": [
    "%matplotlib inline                 \n",
    "from IPython.display import HTML   # ONLY for Jupyter, these 2 lines allow inline animation\n",
    "import matplotlib.pyplot as plt\n",
    "import numpy as np\n",
    "import matplotlib.animation as anim\n",
    "\n",
    "# plot figure as in a static plot to be modified later\n",
    "fig, ax = plt.subplots(figsize=(5,4))\n",
    "\n",
    "t = np.linspace(0, 3, 40)\n",
    "g = -9.81\n",
    "v0 = 12\n",
    "z = g * t**2 / 2 + v0 * t\n",
    "\n",
    "v02 = 5\n",
    "z2 = g * t**2 / 2 + v02 * t\n",
    "\n",
    "scat = ax.scatter(t[0], z[0], c=\"b\", s=5, label=f'v0 = {v0} m/s')\n",
    "line2 = ax.plot(t[0], z2[0], label=f'v0 = {v02} m/s')[0]\n",
    "ax.set(xlim=[0, 3], ylim=[-4, 10], xlabel='Time [s]', ylabel='Z [m]')\n",
    "ax.legend()\n",
    "\n",
    "def update(frame):\n",
    "    # for each frame, update the data stored on each artist.\n",
    "    x = t[:frame]\n",
    "    y = z[:frame]\n",
    "    # update the scatter plot:\n",
    "    data = np.stack([x, y]).T\n",
    "    scat.set_offsets(data)\n",
    "    # update the line plot:\n",
    "    line2.set_xdata(t[:frame])\n",
    "    line2.set_ydata(z2[:frame])\n",
    "    return (scat, line2)\n",
    "\n",
    "# Function animation instance created, figure 'fig' passed to it\n",
    "# assign a function 'update' that modifies static plot in each iteration\n",
    "ani = anim.FuncAnimation(fig=fig, func=update, frames=40, interval=30)\n",
    "# ONLY for Jupyter, these 2 lines allow inline animation\n",
    "HTML(ani.to_html5_video())      \n",
    "# save file by providing filename, writer and fps\n",
    "#ani.save(filename=\"projectile_animation.mp4\", writer=\"ffmpeg\")\n",
    "#ani.save(filename=\"projectile_animation.gif\", writer=\"pillow\")\n",
    "#ani.save(filename=\"projectile_animation.png\", writer=\"html\")\n",
    "#plt.show()"
   ]
  },
  {
   "cell_type": "markdown",
   "id": "0d19aa16",
   "metadata": {},
   "source": [
    "## VPython\n",
    "Primarily used for 3D interactive animations and plots. Can be installed as\n",
    "```\n",
    "conda install -c conda-forge vpython\n",
    "```\n",
    "if `conda install vpython` does not work."
   ]
  },
  {
   "cell_type": "markdown",
   "id": "11d69ef3-3ade-4abd-9cb8-e9d1b944d175",
   "metadata": {},
   "source": [
    "### 2D plotting"
   ]
  },
  {
   "cell_type": "code",
   "execution_count": null,
   "id": "b87a1c7c",
   "metadata": {},
   "outputs": [
    {
     "data": {
      "text/html": [
       "<div id=\"glowscript\" class=\"glowscript\"></div>"
      ],
      "text/plain": [
       "<IPython.core.display.HTML object>"
      ]
     },
     "metadata": {},
     "output_type": "display_data"
    },
    {
     "data": {
      "application/javascript": [
       "if (typeof Jupyter !== \"undefined\") { window.__context = { glowscript_container: $(\"#glowscript\").removeAttr(\"id\")};}else{ element.textContent = ' ';}"
      ],
      "text/plain": [
       "<IPython.core.display.Javascript object>"
      ]
     },
     "metadata": {},
     "output_type": "display_data"
    },
    {
     "data": {
      "text/html": [
       "<div id=\"glowscript\" class=\"glowscript\"></div>"
      ],
      "text/plain": [
       "<IPython.core.display.HTML object>"
      ]
     },
     "metadata": {},
     "output_type": "display_data"
    },
    {
     "data": {
      "application/javascript": [
       "if (typeof Jupyter !== \"undefined\") { window.__context = { glowscript_container: $(\"#glowscript\").removeAttr(\"id\")};}else{ element.textContent = ' ';}"
      ],
      "text/plain": [
       "<IPython.core.display.Javascript object>"
      ]
     },
     "metadata": {},
     "output_type": "display_data"
    },
    {
     "data": {
      "application/javascript": [
       "if (typeof Jupyter !== \"undefined\") {require.undef(\"nbextensions/vpython_libraries/glow.min\");}else{element.textContent = ' ';}"
      ],
      "text/plain": [
       "<IPython.core.display.Javascript object>"
      ]
     },
     "metadata": {},
     "output_type": "display_data"
    },
    {
     "data": {
      "application/javascript": [
       "if (typeof Jupyter !== \"undefined\") {require.undef(\"nbextensions/vpython_libraries/glowcomm\");}else{element.textContent = ' ';}"
      ],
      "text/plain": [
       "<IPython.core.display.Javascript object>"
      ]
     },
     "metadata": {},
     "output_type": "display_data"
    },
    {
     "data": {
      "application/javascript": [
       "if (typeof Jupyter !== \"undefined\") {require.undef(\"nbextensions/vpython_libraries/jquery-ui.custom.min\");}else{element.textContent = ' ';}"
      ],
      "text/plain": [
       "<IPython.core.display.Javascript object>"
      ]
     },
     "metadata": {},
     "output_type": "display_data"
    },
    {
     "data": {
      "application/javascript": [
       "if (typeof Jupyter !== \"undefined\") {require([\"nbextensions/vpython_libraries/glow.min\"], function(){console.log(\"GLOW LOADED\");});}else{element.textContent = ' ';}"
      ],
      "text/plain": [
       "<IPython.core.display.Javascript object>"
      ]
     },
     "metadata": {},
     "output_type": "display_data"
    },
    {
     "data": {
      "application/javascript": [
       "if (typeof Jupyter !== \"undefined\") {require([\"nbextensions/vpython_libraries/glowcomm\"], function(){console.log(\"GLOWCOMM LOADED\");});}else{element.textContent = ' ';}"
      ],
      "text/plain": [
       "<IPython.core.display.Javascript object>"
      ]
     },
     "metadata": {},
     "output_type": "display_data"
    },
    {
     "data": {
      "application/javascript": [
       "if (typeof Jupyter !== \"undefined\") {require([\"nbextensions/vpython_libraries/jquery-ui.custom.min\"], function(){console.log(\"JQUERY LOADED\");});}else{element.textContent = ' ';}"
      ],
      "text/plain": [
       "<IPython.core.display.Javascript object>"
      ]
     },
     "metadata": {},
     "output_type": "display_data"
    }
   ],
   "source": [
    "from vpython import * # must import vpython first\n",
    "scene = canvas() # with this you don't need to restart kernel each time\n",
    "\n",
    "f1 = gcurve(color=color.cyan)\t# a graphics curve\n",
    "for x in arange(0, 8.05, 0.1):\t# x goes from 0 to 8\n",
    "    f1.plot(pos=(x,5*cos(2*x)*exp(-0.2*x)))\t# plot\n",
    "    \n",
    "f2 = gvbars(delta=0.05, color=color.blue) # a bar curve\n",
    "for x in arange(0, 8.05, 0.1):\t# x goes from 0 to 8\n",
    "    f2.plot(pos=(x,3*cos(2*x)*exp(-0.2*x)))\t# plot"
   ]
  },
  {
   "cell_type": "markdown",
   "id": "a45ad985-bc1f-41e7-b11c-ddfd06fb25bd",
   "metadata": {},
   "source": [
    "### 3D plotting"
   ]
  },
  {
   "cell_type": "code",
   "execution_count": 2,
   "id": "b06b34c8",
   "metadata": {},
   "outputs": [],
   "source": [
    "from vpython import *\n",
    "Sue=sphere(pos = vector(-1,0,0), radius=0.5, color=color.green) # make the first sphere at pos\n",
    "Bob=sphere(pos = vector(1,1,0), radius=0.5, color=color.green) # make the second sphere\n",
    "arrow(pos=Sue.pos,axis=Bob.pos-Sue.pos,color=color.red) # make an arrow pointint from Sue to Bob"
   ]
  },
  {
   "cell_type": "markdown",
   "id": "6fa66359",
   "metadata": {},
   "source": [
    "### Animations"
   ]
  },
  {
   "cell_type": "code",
   "execution_count": 3,
   "id": "07b7b2fc",
   "metadata": {},
   "outputs": [
    {
     "data": {
      "text/html": [
       "<div id=\"glowscript\" class=\"glowscript\"></div>"
      ],
      "text/plain": [
       "<IPython.core.display.HTML object>"
      ]
     },
     "metadata": {},
     "output_type": "display_data"
    },
    {
     "data": {
      "application/javascript": [
       "if (typeof Jupyter !== \"undefined\") { window.__context = { glowscript_container: $(\"#glowscript\").removeAttr(\"id\")};}else{ element.textContent = ' ';}"
      ],
      "text/plain": [
       "<IPython.core.display.Javascript object>"
      ]
     },
     "metadata": {},
     "output_type": "display_data"
    }
   ],
   "source": [
    "from vpython import *\n",
    "scene2 = canvas(title='Ring and Ball',\n",
    "     width=600, height=300,\n",
    "     center=vector(0,1,2), forward=vector(0,-0.5,-1), background=color.cyan) # set the camera\n",
    "# y is pointing up, z is pointing inwards, for the ring, axis is the direction it is pointing\n",
    "Sue=ring(pos = vector(0,0,0), axis=vector(0,1,0), radius=1, thickness=0.3, color=color.green)\n",
    "Bob=sphere(pos = vector(0,5,0), radius=0.5, color=color.cyan)\n",
    "arr=helix(pos=Sue.pos,axis=Bob.pos-Sue.pos,radius=0.5,color=color.red) # plot the helix\n",
    "\n",
    "r = Bob.pos\n",
    "while r.y > -5.:\n",
    "    rate(10)   # slow down the animation\n",
    "    ##sphere(pos=r, radius=0.5, color=color.green)\n",
    "    Bob.pos = r\n",
    "    c=Bob.pos - Sue.pos\n",
    "    ##c=c/(c.x*c.x+c.y*c.y+c.z*c.z)**0.5\n",
    "    arr.axis = c  # update the helix length\n",
    "    r.y = r.y - 0.1 # update Bob the sphere's position"
   ]
  },
  {
   "cell_type": "markdown",
   "id": "5de79152-3437-4e32-91d1-74a8d952db55",
   "metadata": {},
   "source": [
    "# Try it yourself\n",
    "\n",
    "### Total 4 marks (2 marks each)\n",
    "\n",
    "1. The damped motion of a body of mass $m$ attached to a spring of spring constant $k$ is described by  \n",
    "$$ \n",
    "x(t) = A_0 e^{-\\frac{b}{2m}t}\\cos(\\omega t+\\phi) \n",
    "$$\n",
    "The angular frequency of oscillation is given by  \n",
    "$$ \\omega = \\sqrt{\\omega_0^2 - \\left(\\frac{b}{2m}\\right)^2}$$\n",
    "where $\\omega_0^2=k/m$ is the natural angular frequency of oscillation. Here $b$ is the damping factor, which represents the amount of damping. Assuming $k=m=1$, plot the three cases of underdamped, critically damped and overdamped oscillations of the object (change the value of $b$ to be more than, equal to or less than the critical value, i.e. the value for which the term in the square root vanishes)."
   ]
  },
  {
   "cell_type": "markdown",
   "id": "877d5361-7054-4cbd-b962-bfbd90a7feb5",
   "metadata": {},
   "source": [
    "2.  A scanning tunneling microscope (STM) is a device that measures the shape of a surface at the atomic level by tracking a sharp tip over the surface and measuring quantum tunneling current as a function of position.  The end result is a grid of values that represent the height of the surface and the file \"stm.txt\" (download from Github folder \"data_files\") contains just such a grid of values.  Write a program that reads the data contained in the file and makes a density plot of the values."
   ]
  }
 ],
 "metadata": {
  "kernelspec": {
   "display_name": "Python 3 (ipykernel)",
   "language": "python",
   "name": "python3"
  },
  "language_info": {
   "codemirror_mode": {
    "name": "ipython",
    "version": 3
   },
   "file_extension": ".py",
   "mimetype": "text/x-python",
   "name": "python",
   "nbconvert_exporter": "python",
   "pygments_lexer": "ipython3",
   "version": "3.8.5"
  }
 },
 "nbformat": 4,
 "nbformat_minor": 5
}
