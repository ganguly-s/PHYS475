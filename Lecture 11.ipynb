{
 "cells": [
  {
   "cell_type": "markdown",
   "id": "a31241a6",
   "metadata": {},
   "source": [
    "## Simultaneous Linear Equations\n",
    "\n",
    "One of the straightforward methods of solving simultaneous linear equations, such as,\n",
    "$$ \n",
    "\\begin{align}\n",
    "2w+x+4y+z =& -4 \\\\\n",
    "3w +4x-y-z =& 3 \\\\\n",
    "w -4x +y + 5z =& 9 \\\\\n",
    "2w -2x +y +3z =& 7\n",
    "\\end{align}\n",
    "$$ \n",
    "is to write it matrix notation:\n",
    "$$ \n",
    "\\begin{align}\n",
    "\\begin{pmatrix}\n",
    "2 & 1 & 4 & 1 \\\\\n",
    "3 & 1 & -1 & -1 \\\\\n",
    "1 & -4 & 1 & 5 \\\\\n",
    "2 & -2 & 1 & 3 \n",
    "\\end{pmatrix}&\n",
    "\\begin{pmatrix}\n",
    "w \\\\ x \\\\ y \\\\ z\n",
    "\\end{pmatrix}\n",
    "= \\begin{pmatrix}\n",
    "-4 \\\\ 3 \\\\ 9 \\\\ 7\n",
    "\\end{pmatrix} \\\\\n",
    "{\\rm or,}\\quad \\boldsymbol{Ax} =& \\boldsymbol{v}\n",
    "\\end{align}\n",
    "$$\n",
    "It seems straightforward to solve equations using\n",
    "$$ \\boldsymbol{x} = \\boldsymbol{A^{-1}v} $$\n",
    "but its numerical implementation is cumbersome. Hence, we turn to other methods."
   ]
  },
  {
   "cell_type": "markdown",
   "id": "31dc3e0a",
   "metadata": {},
   "source": [
    "## Gaussian Elimination\n",
    "\n",
    "* If we multiply any row of matrix $\\boldsymbol{A}$ by any constant, and we multiply the corresponding row of the vector $\\boldsymbol{v}$ by the same vector, then the solution does not change.\n",
    "* We can take any linear combination of two equations to get another correct equation.  \n",
    "\n",
    "Repeat the steps until you are left with an **upper triangular matrix**. Now you can apply the **backsubstitution** method.  \n",
    "Applying Gaussian elimination to the above equation, we get\n",
    "$$ \n",
    "\\begin{pmatrix}\n",
    "1 & 0.5 & 2 & 0.5 \\\\\n",
    "0 & 1 & -2.8 & -1 \\\\\n",
    "0 & 0 & 1 & 0 \\\\\n",
    "0 & 0 & 0 & 1 \n",
    "\\end{pmatrix}\n",
    "\\begin{pmatrix}\n",
    "w \\\\ x \\\\ y \\\\ z\n",
    "\\end{pmatrix}\n",
    "= \\begin{pmatrix}\n",
    "-2 \\\\ 3.6 \\\\ -2 \\\\ 1\n",
    "\\end{pmatrix}\n",
    "$$"
   ]
  },
  {
   "cell_type": "markdown",
   "id": "6979497f",
   "metadata": {},
   "source": [
    "## Backsubstitution\n",
    "\n",
    "A set of equations of the form\n",
    "$$ \\begin{pmatrix}\n",
    "1 & a_{01} & a_{02} & a_{03} \\\\\n",
    "0 & 1 & a_{12} & a_{13} \\\\\n",
    "0 & 0 & 1 & a_{23} \\\\\n",
    "0 & 0 & 0 & 1 \n",
    "\\end{pmatrix}\n",
    "\\begin{pmatrix}\n",
    "w \\\\ x \\\\ y \\\\ z\n",
    "\\end{pmatrix}\n",
    "= \\begin{pmatrix}\n",
    "v_0 \\\\ v_1 \\\\ v_2 \\\\ v_3\n",
    "\\end{pmatrix}\n",
    "$$\n",
    "obtained after Gaussian elimiation, can be written out in full as\n",
    "$$ \n",
    "\\begin{align}\n",
    "w + a_{01}x + a_{02}y + a_{03}z =& v_0 \\\\\n",
    "x + a_{12}y + a_{13}z =& v_1 \\\\\n",
    "y + a_{23}z =& v_2 \\\\\n",
    "z =& v_3\n",
    "\\end{align}\n",
    "$$\n",
    "This gives the solutions as:\n",
    "$$ \n",
    "\\begin{align}\n",
    "z =& v_3\\\\\n",
    "y =& v_2 - a_{23}z \\\\\n",
    "x =& v_1 - a_{12}y - a_{13}z \\\\\n",
    "w =& v_0 - a_{01}x - a_{02}y - a_{03}z\n",
    "\\end{align}\n",
    "$$\n",
    "Applying this to the above case, the solution should be\n",
    "$$ w = 2, \\quad x = -1, \\quad y = -2,\\quad z = 1 $$"
   ]
  },
  {
   "cell_type": "code",
   "execution_count": 1,
   "id": "d10413e2",
   "metadata": {},
   "outputs": [],
   "source": [
    "import numpy as np\n",
    "\n",
    "# create the matrices corresponding to the simultaneous linear equations\n",
    "A = np.array([[2, 1, 4, 1],\n",
    "              [3, 4, -1, -1],\n",
    "              [1, -4, 1, 5],\n",
    "              [2, -2, 1, 3]],float)\n",
    "v = np.array([-4, 3, 9, 7],float)\n",
    "N = len(v) # storing length of array for iteration"
   ]
  },
  {
   "cell_type": "code",
   "execution_count": 2,
   "id": "d46cfb7a",
   "metadata": {},
   "outputs": [
    {
     "name": "stdout",
     "output_type": "stream",
     "text": [
      "[[ 1.   0.5  2.   0.5]\n",
      " [ 0.   1.  -2.8 -1. ]\n",
      " [-0.  -0.   1.  -0. ]\n",
      " [-0.  -0.  -0.   1. ]]\n"
     ]
    }
   ],
   "source": [
    "# Gaussian elimination\n",
    "for m in range(N):\n",
    "    # Divide each row by the diagonal element\n",
    "    div = A[m,m]\n",
    "    A[m,:] /= div\n",
    "    v[m] /= div\n",
    "    \n",
    "    # now subtract from the lower rows\n",
    "    for i in range(m+1,N):\n",
    "        mult = A[i,m]\n",
    "        A[i,:] -= mult*A[m,:]\n",
    "        v[i] -= mult*v[m]\n",
    "\n",
    "print(A)"
   ]
  },
  {
   "cell_type": "code",
   "execution_count": 3,
   "id": "85df0120",
   "metadata": {},
   "outputs": [
    {
     "name": "stdout",
     "output_type": "stream",
     "text": [
      "[ 2. -1. -2.  1.]\n"
     ]
    }
   ],
   "source": [
    "## Backsubstitution\n",
    "x = np.empty(N,float)\n",
    "for m in range(N-1,-1,-1):\n",
    "    x[m] = v[m]\n",
    "    for i in range(m+1,N):\n",
    "        x[m] -= A[m,i]*x[i]\n",
    "\n",
    "print(x)"
   ]
  },
  {
   "cell_type": "markdown",
   "id": "363bd31f",
   "metadata": {},
   "source": [
    "## A circuit of resistors\n",
    "\n",
    "![](resistor.jpg)"
   ]
  },
  {
   "cell_type": "markdown",
   "id": "5c766ab9",
   "metadata": {},
   "source": [
    "System of equations:\n",
    "$$ \n",
    "\\begin{pmatrix}\n",
    "4 & -1 & -1 & -1 \\\\\n",
    "-1 & 0 & 3 & -1 \\\\\n",
    "-1 & 3 & 0 & -1 \\\\\n",
    "0 & -1 & -1 & 4 \n",
    "\\end{pmatrix}\n",
    "\\begin{pmatrix}\n",
    "V_1 \\\\ V_2 \\\\ V_3 \\\\ V_4\n",
    "\\end{pmatrix}\n",
    "= \\begin{pmatrix}\n",
    "V_+ \\\\ V_+ \\\\ 0 \\\\ 0\n",
    "\\end{pmatrix}\n",
    "$$\n",
    "where $V_+=5V$."
   ]
  },
  {
   "cell_type": "code",
   "execution_count": 4,
   "id": "95b4bee6",
   "metadata": {},
   "outputs": [
    {
     "name": "stdout",
     "output_type": "stream",
     "text": [
      "[[  1.    -0.25  -0.25  -0.25]\n",
      " [ -0.     1.   -11.     5.  ]\n",
      " [  0.     0.     1.    -0.5 ]\n",
      " [  0.     0.     0.     1.  ]]\n"
     ]
    }
   ],
   "source": [
    "# write the code to find voltages at different junctions \n",
    "# apply Gaussian elimination and backsubstitution as below\n",
    "\n",
    "# print out the result of Gaussian elimiation -- does it produce an upper triangular matrix?\n",
    "\n",
    "import numpy as np\n",
    "\n",
    "A = np.array([[ 4,-1,-1,-1 ],\n",
    "           [ -1,0,3,-1 ],\n",
    "           [ -1,3,0,-1 ],\n",
    "           [ -1,-1,0,4]], float)\n",
    "v = np.array([ 5, 5, 0, 0 ],float)\n",
    "N = len(v)\n",
    "\n",
    "# Gaussian elimination\n",
    "for m in range(N):\n",
    "\n",
    "    # Divide by the diagonal element\n",
    "    div = A[m,m]\n",
    "    A[m,:] /= div\n",
    "    v[m] /= div\n",
    "\n",
    "    # Now subtract from the lower rows\n",
    "    for i in range(m+1,N):\n",
    "        mult = A[i,m]\n",
    "        A[i,:] -= mult*A[m,:]\n",
    "        v[i] -= mult*v[m]\n",
    "\n",
    "# printing the upper triangular matrix after Gaussian elimination\n",
    "print(A)"
   ]
  },
  {
   "cell_type": "code",
   "execution_count": 5,
   "id": "d400f3ef",
   "metadata": {},
   "outputs": [
    {
     "name": "stdout",
     "output_type": "stream",
     "text": [
      "[2.44444444 1.11111111 2.77777778 0.88888889]\n"
     ]
    }
   ],
   "source": [
    "# now calculate the final result\n",
    "\n",
    "# Backsubstitution\n",
    "x = np.empty(N,float)\n",
    "for m in range(N-1,-1,-1):\n",
    "    x[m] = v[m]\n",
    "    for i in range(m+1,N):\n",
    "        x[m] -= A[m,i]*x[i]\n",
    "\n",
    "# final result: V1, V2, V3, V4\n",
    "print(x)"
   ]
  },
  {
   "cell_type": "code",
   "execution_count": 6,
   "id": "868fb385",
   "metadata": {},
   "outputs": [
    {
     "name": "stdout",
     "output_type": "stream",
     "text": [
      "[2.44444444 1.11111111 2.77777778 0.88888889]\n"
     ]
    }
   ],
   "source": [
    "### Checking if correct \n",
    "\n",
    "from numpy.linalg import solve\n",
    "\n",
    "print(solve(A,v))"
   ]
  },
  {
   "cell_type": "markdown",
   "id": "503a303d",
   "metadata": {},
   "source": [
    "## Pivoting\n",
    "\n",
    "If the first element of the first row is 0, we must interchange that row with any other row and then apply Gaussian elimination. This is called *pivoting*.  \n",
    "This is not always straightforward. Safest bet -- **partial pivoting**.\n",
    "* Rearrange the rows at each step\n",
    "* Check mth element of each row and choose the row with highest absolute value of mth element.\n",
    "* Swap chosen row with current row, and repeat.  \n",
    "\n",
    "Solve the following:\n",
    "$$ \\begin{pmatrix}\n",
    "0 & 1 & 4 & 1 \\\\\n",
    "3 & 4 & -1 & -1 \\\\\n",
    "1 & -4 & 1 & 5 \\\\\n",
    "2 & -2 & 1 & 3 \n",
    "\\end{pmatrix}\n",
    "\\begin{pmatrix}\n",
    "w \\\\ x \\\\ y \\\\ z\n",
    "\\end{pmatrix}\n",
    "= \\begin{pmatrix}\n",
    "-4 \\\\ 3 \\\\ 9 \\\\ 7\n",
    "\\end{pmatrix}\n",
    "$$"
   ]
  },
  {
   "cell_type": "code",
   "execution_count": 7,
   "id": "5bfe66d4",
   "metadata": {},
   "outputs": [
    {
     "name": "stdout",
     "output_type": "stream",
     "text": [
      "[[ 1.          1.33333333 -0.33333333 -0.33333333]\n",
      " [ 0.          1.          4.          1.        ]\n",
      " [ 0.          0.          1.          0.47058824]\n",
      " [-0.         -0.         -0.          1.        ]]\n"
     ]
    }
   ],
   "source": [
    "A = np.array([[0,1,4,1],\n",
    "           [3,4,-1,-1],\n",
    "           [1,-4,1,5],\n",
    "           [2,-2,1,3]],float)\n",
    "\n",
    "v = np.array([-4,3,9,7],float)\n",
    "N = len(v)\n",
    "\n",
    "# Gaussian elimination\n",
    "for m in range(N):\n",
    "    # Check if A[m,m] is the largest value from elements below and perform swapping\n",
    "    for i in range(m+1,N):\n",
    "        if A[m,m] < A[i,m]:\n",
    "            A[[m,i],:] = A[[i,m],:]\t\n",
    "            v[[m,i]] = v[[i,m]]\n",
    "    \n",
    "    # Divide each row by the diagonal element\n",
    "    div = A[m,m]\n",
    "    A[m,:] /= div\n",
    "    v[m] /= div\n",
    "    \n",
    "    # now subtract from the lower rows\n",
    "    for i in range(m+1,N):\n",
    "        mult = A[i,m]\n",
    "        A[i,:] -= mult*A[m,:]\n",
    "        v[i] -= mult*v[m]\n",
    "\n",
    "print(A)"
   ]
  },
  {
   "cell_type": "code",
   "execution_count": 8,
   "id": "701a6b37",
   "metadata": {},
   "outputs": [
    {
     "name": "stdout",
     "output_type": "stream",
     "text": [
      "[ 1.61904762 -0.42857143 -1.23809524  1.38095238]\n"
     ]
    }
   ],
   "source": [
    "# Backsubstitution\n",
    "x = np.empty(N,float)\n",
    "for m in range(N-1,-1,-1):\n",
    "    x[m] = v[m]\n",
    "    for i in range(m+1,N):\n",
    "        x[m] -= A[m,i]*x[i]\n",
    "\n",
    "print(x)"
   ]
  },
  {
   "cell_type": "code",
   "execution_count": 9,
   "id": "d67bb4b7",
   "metadata": {},
   "outputs": [
    {
     "name": "stdout",
     "output_type": "stream",
     "text": [
      "[ 1.61904762 -0.42857143 -1.23809524  1.38095238]\n"
     ]
    }
   ],
   "source": [
    "print(solve(A,v))"
   ]
  },
  {
   "cell_type": "markdown",
   "id": "e89add24",
   "metadata": {},
   "source": [
    "# Try it yourself\n",
    "\n",
    "### Total 4 marks\n",
    "\n",
    "Finish coding the resistor problem above, and post the code with the final result."
   ]
  }
 ],
 "metadata": {
  "kernelspec": {
   "display_name": "Python 3 (ipykernel)",
   "language": "python",
   "name": "python3"
  },
  "language_info": {
   "codemirror_mode": {
    "name": "ipython",
    "version": 3
   },
   "file_extension": ".py",
   "mimetype": "text/x-python",
   "name": "python",
   "nbconvert_exporter": "python",
   "pygments_lexer": "ipython3",
   "version": "3.8.5"
  }
 },
 "nbformat": 4,
 "nbformat_minor": 5
}
