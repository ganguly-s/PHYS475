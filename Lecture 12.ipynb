{
 "cells": [
  {
   "cell_type": "markdown",
   "id": "c06b84a9",
   "metadata": {},
   "source": [
    "## LU Decomposition\n",
    "\n",
    "Gaussian elimination can become computationally complex if we need to repeat the same set of operations several times. In order to simplify the process, we can denote the set of operations required to convert the matrix $\\boldsymbol{A}$ into an upper triangular matrix, using matrix notation:\n",
    "$$ \\boldsymbol{LU} = \\boldsymbol{A} $$\n",
    "Here $\\boldsymbol{L}$ is a lower triangular matrix, and $\\boldsymbol{U}$ is an upper triangular matrix. This is the **LU Decomposition** of a matrix $\\boldsymbol{A}$. It tells us that $\\boldsymbol{A}$ is a product of a lower and an upper triangular matrix. This converts the set of equations to:\n",
    "$$ \\boldsymbol{LUx} = \\boldsymbol{v} $$\n",
    "If we define $ \\boldsymbol{y} = \\boldsymbol{Ux} $, then we get two sets of equations representing our original set of linear equations:\n",
    "$$\n",
    "\\begin{align}\n",
    "\\boldsymbol{Ux} =& \\boldsymbol{y} \\\\\n",
    "\\boldsymbol{Ly} =& \\boldsymbol{v}\n",
    "\\end{align}\n",
    "$$\n",
    "each of which can be solved using backsubstitution."
   ]
  },
  {
   "cell_type": "code",
   "execution_count": null,
   "id": "293136fa",
   "metadata": {},
   "outputs": [],
   "source": [
    "# different Python options that implement LU Decomposition\n",
    "import numpy as np\n",
    "\n",
    "A = np.array([[4, -1, -1, -1],\n",
    "             [-1, 0, 3, -1],\n",
    "             [-1, 3, 0, -1],\n",
    "             [0, -1, -1, 4]],float)\n",
    "v = np.array([5, 5, 0, 0],float)\n",
    "\n",
    "x = np.linalg.solve(A,v)\n",
    "\n",
    "print(x)"
   ]
  },
  {
   "cell_type": "markdown",
   "id": "898a7550",
   "metadata": {},
   "source": [
    "## Inverse of a Matrix\n",
    "\n",
    "Consider the equation:\n",
    "$$ \\boldsymbol{AX} = \\boldsymbol{V} $$\n",
    "where $\\boldsymbol{X}$ and $\\boldsymbol{V}$ are NxN matrices. If $\\boldsymbol{V}$ is an identity matrix $\\boldsymbol{I}$, then we see that $\\boldsymbol{X}$ must be the inverse of $\\boldsymbol{A}$:\n",
    "$$ \\boldsymbol{AX} = \\boldsymbol{I} \\implies \\boldsymbol{X} = \\boldsymbol{A}^{-1}$$"
   ]
  },
  {
   "cell_type": "code",
   "execution_count": null,
   "id": "cb8e2238",
   "metadata": {},
   "outputs": [],
   "source": [
    "A = np.array([[4, -1, -1, -1],\n",
    "             [-1, 0, 3, -1],\n",
    "             [-1, 3, 0, -1],\n",
    "             [0, -1, -1, 4]],float)\n",
    "v = np.array([[1, 0, 0, 0],\n",
    "             [0, 1, 0, 0],\n",
    "             [0, 0, 1, 0],\n",
    "             [0, 0, 0, 1]],float)\n",
    "\n",
    "X = np.empty((4,4))\n",
    "for i in range(len(v[0])):\n",
    "    X[:,i] = np.linalg.solve(A,v[:,i])\n",
    "\n",
    "print(X)"
   ]
  },
  {
   "cell_type": "code",
   "execution_count": null,
   "id": "64f4b938",
   "metadata": {},
   "outputs": [],
   "source": [
    "Y = np.linalg.inv(A)\n",
    "print(Y)"
   ]
  }
 ],
 "metadata": {
  "kernelspec": {
   "display_name": "Python 3 (ipykernel)",
   "language": "python",
   "name": "python3"
  },
  "language_info": {
   "codemirror_mode": {
    "name": "ipython",
    "version": 3
   },
   "file_extension": ".py",
   "mimetype": "text/x-python",
   "name": "python",
   "nbconvert_exporter": "python",
   "pygments_lexer": "ipython3",
   "version": "3.8.5"
  }
 },
 "nbformat": 4,
 "nbformat_minor": 5
}
