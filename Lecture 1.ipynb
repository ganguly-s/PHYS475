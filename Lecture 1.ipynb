{
 "cells": [
  {
   "cell_type": "markdown",
   "metadata": {},
   "source": [
    "# Python Basics\n",
    "\n",
    "## Python Installation -- Conda\n",
    "\n",
    "The best way set-up an scientific Python environment is to use the cross-platform package manager **\"conda\"** from Continuum Analytics.\n",
    "* First download and install miniconda http://conda.pydata.org/miniconda.html or Anaconda (download Mac or Windows version depending on your operation system). Make sure you install the latest version (Python 3.12).\n",
    "* Next, to install the required libraries, simply run the following at your terminal:\n",
    "\n",
    "        $ conda install jupyter numpy scipy matplotlib \n",
    "  $ conda install spyder sympy cython vpython \n",
    "* After you installed jupyter, you could run it from the terminal:\n",
    "\n",
    "        $ jupyter notebook\n",
    "    \n",
    "* Then create a new ipython kernel to start writing your script!"
   ]
  },
  {
   "cell_type": "code",
   "execution_count": 1,
   "metadata": {},
   "outputs": [
    {
     "name": "stdout",
     "output_type": "stream",
     "text": [
      "Welcome to PHYS475: Computational Physics using Python\n"
     ]
    }
   ],
   "source": [
    "#get started\n",
    "print(\"Welcome to PHYS475: Computational Physics using Python\")"
   ]
  },
  {
   "cell_type": "markdown",
   "metadata": {},
   "source": [
    "## Variables \n",
    "\n",
    "Variables represent quantities of interest such as numbers, vectors or matrices.\n",
    "\n",
    "Variables can be assigned values. The following is an **assignment statement**, which tells the computer the value that the variable holds."
   ]
  },
  {
   "cell_type": "code",
   "execution_count": 2,
   "metadata": {},
   "outputs": [],
   "source": [
    "# variable assignments with =\n",
    "# different from C/fortran, no need to specify the type of a varialbe, dynamically typed language\n",
    "x = 1."
   ]
  },
  {
   "cell_type": "markdown",
   "metadata": {},
   "source": [
    "**Variable naming rules:**\n",
    "  * No limit on size of variable name\n",
    "  * Variables names **cannot start with numbers**, but can start with letters or underscore:  \n",
    "        **\\_underscore  \n",
    "        underscore\\_**   \n",
    "  * Contain letters, numbers, underscore (but no other symbols or spaces):  \n",
    "        **password1  \n",
    "        n00b  \n",
    "        un_der_scores**\n",
    "  * Names are case sensitive:\n",
    "    **case_sensitive**, **CASE_SENSITIVE**, and **Case_Sensitive** are each a different variable.  \n",
    "\n",
    "By convention, variable names start with a lower-case letter, and Class names start with a capital letter.  \n",
    "\n",
    "In addition, there are a number of Python keywords that cannot be used as variable names, e.g. **False**, **except**, **if**, **and**, **as**, **assert**, **print**,......  \n",
    "  \n",
    "**Always choose names that help you remember what the variable represents.** (adding comments is a good practice)"
   ]
  },
  {
   "cell_type": "markdown",
   "metadata": {},
   "source": [
    "## Data types\n",
    "\n",
    "* **Integer**$~~~~$-- $1$, $0$, $-286784$\n",
    "* **Float**$~~~~~~~$-- $3.14159$, $-6.63\\times10^{-34}$, $1.0$\n",
    "* **Complex**$~$-- $1+2j$, $-3.5-0.4j$"
   ]
  },
  {
   "cell_type": "code",
   "execution_count": 3,
   "metadata": {},
   "outputs": [
    {
     "name": "stdout",
     "output_type": "stream",
     "text": [
      "1.0 <class 'float'>\n"
     ]
    }
   ],
   "source": [
    "print(x, type(x))"
   ]
  },
  {
   "cell_type": "code",
   "execution_count": 4,
   "metadata": {},
   "outputs": [
    {
     "name": "stdout",
     "output_type": "stream",
     "text": [
      "1 <class 'int'>\n",
      "(1+2j) <class 'complex'>\n",
      "-3.14 <class 'float'>\n"
     ]
    }
   ],
   "source": [
    "# try to assign different values to x and see what the above statement prints\n",
    "# try 1, 1+2j, -3.14, etc.\n",
    "\n",
    "x = 1\n",
    "print(x, type(x))\n",
    "\n",
    "x = 1+2j\n",
    "print(x, type(x))\n",
    "\n",
    "x = -3.14\n",
    "print(x, type(x))"
   ]
  },
  {
   "cell_type": "markdown",
   "metadata": {},
   "source": [
    "Other data types  \n",
    "* **String**: stores text as strings of letters, punctuations, symbols, digits, etc., enclosed in \" \" or ' '  \n",
    "    x = \"This is a string\"  \n",
    "    x = \"1.0\"\n",
    "* **Boolean**: true or false "
   ]
  },
  {
   "cell_type": "code",
   "execution_count": 5,
   "metadata": {},
   "outputs": [
    {
     "name": "stdout",
     "output_type": "stream",
     "text": [
      "1.0 <class 'str'>\n",
      "True <class 'bool'>\n"
     ]
    }
   ],
   "source": [
    "# try to print value and data type of the following variables\n",
    "a = \"1.0\"\n",
    "c = True\n",
    "\n",
    "print(a, type(a))\n",
    "print(c, type(c))"
   ]
  },
  {
   "cell_type": "markdown",
   "metadata": {},
   "source": [
    "## Output Statement\n",
    "\n",
    "Consider the following code:"
   ]
  },
  {
   "cell_type": "code",
   "execution_count": 6,
   "metadata": {},
   "outputs": [
    {
     "name": "stdout",
     "output_type": "stream",
     "text": [
      "1 2\n"
     ]
    }
   ],
   "source": [
    "x = 1\n",
    "y = 2\n",
    "print(x,y)"
   ]
  },
  {
   "cell_type": "markdown",
   "metadata": {},
   "source": [
    "The comma in the print statement is printed as space.\n",
    "The comma is a **separator**. By default, the separator is assigned a single space.\n",
    "The following is a nicer way to print the values:"
   ]
  },
  {
   "cell_type": "code",
   "execution_count": 7,
   "metadata": {},
   "outputs": [
    {
     "name": "stdout",
     "output_type": "stream",
     "text": [
      "The value of x is 1 and the value of y is 2\n"
     ]
    }
   ],
   "source": [
    "print(\"The value of x is\",x,\"and the value of y is\",y)"
   ]
  },
  {
   "cell_type": "markdown",
   "metadata": {},
   "source": [
    "You can assign different meaning to the comma separator, using the keyword 'sep'. For e.g.: sep='...' or sep=''."
   ]
  },
  {
   "cell_type": "code",
   "execution_count": 8,
   "metadata": {},
   "outputs": [
    {
     "name": "stdout",
     "output_type": "stream",
     "text": [
      "1.5...(2+3j)\n",
      "1.5(2+3j)\n"
     ]
    }
   ],
   "source": [
    "# run the following\n",
    "x = 1.5\n",
    "z = 2+3j\n",
    "print(x,z,sep='...')  # adds ... in place of comma \n",
    "print(x,z,sep='')     # adds no space in place of comma"
   ]
  },
  {
   "cell_type": "markdown",
   "metadata": {},
   "source": [
    "## Output formatting\n",
    "\n",
    "**String modulo (%) operator** helps embed values within a string. The format of the values can be specified within the string."
   ]
  },
  {
   "cell_type": "code",
   "execution_count": 9,
   "metadata": {},
   "outputs": [
    {
     "name": "stdout",
     "output_type": "stream",
     "text": [
      "x = 1.50, y = 0200\n"
     ]
    }
   ],
   "source": [
    "x = 1.5\n",
    "y = 200\n",
    "print(\"x = %.2f, y = %04d\"%(x,y))"
   ]
  },
  {
   "cell_type": "markdown",
   "metadata": {},
   "source": [
    "**Format() method** is a built-in function that allows flexible string handling and formatting operations."
   ]
  },
  {
   "cell_type": "code",
   "execution_count": 10,
   "metadata": {},
   "outputs": [
    {
     "name": "stdout",
     "output_type": "stream",
     "text": [
      "x = 1.5, y = 200\n",
      "x = 1.50, y = 0200\n"
     ]
    }
   ],
   "source": [
    "# Using indexed placeholders for string formatting\n",
    "print(\"x = {0}, y = {1}\".format(x,y))\n",
    "\n",
    "# Formatting with format()\n",
    "print(\"x = {0:.2f}, y = {1:04d}\".format(x,y))"
   ]
  },
  {
   "cell_type": "markdown",
   "metadata": {},
   "source": [
    "## Arithmetic\n",
    "\n",
    "* Addition $~~~~~~~$x+y\n",
    "* Subtraction $~~$x-y\n",
    "* Multiplication x*y\n",
    "* Division $~~~~~~~$x/y\n",
    "* Exponent $~~~~~$x**y"
   ]
  },
  {
   "cell_type": "code",
   "execution_count": 11,
   "metadata": {},
   "outputs": [
    {
     "name": "stdout",
     "output_type": "stream",
     "text": [
      "x + y = 17\n",
      "x - y = 11\n",
      "x * y = 42\n",
      "x / y = 4.666666666666667\n",
      "x // y = 4\n",
      "x ** y = 2744\n"
     ]
    }
   ],
   "source": [
    "x = 14\n",
    "y = 3\n",
    "\n",
    "# Output: x + y = 17\n",
    "print('x + y =',x+y)\n",
    "\n",
    "# Output: x - y = 11\n",
    "print('x - y =',x-y)\n",
    "\n",
    "# Output: x * y = 42\n",
    "print('x * y =',x*y)\n",
    "\n",
    "# Output: x / y = 4.67\n",
    "print('x / y =',x/y)\n",
    "\n",
    "# Output: x // y = 4 \n",
    "# division into integer adjusted to the left in the number line, note negative number)\n",
    "print('x // y =',x//y)\n",
    "\n",
    "# Output: x ** y = 2744\n",
    "print('x ** y =',x**y)"
   ]
  },
  {
   "cell_type": "markdown",
   "metadata": {},
   "source": [
    "* Division rounded to nearest integer: x//y"
   ]
  },
  {
   "cell_type": "code",
   "execution_count": 12,
   "metadata": {},
   "outputs": [
    {
     "name": "stdout",
     "output_type": "stream",
     "text": [
      "4\n"
     ]
    }
   ],
   "source": [
    "x = 14\n",
    "y = 3\n",
    "print(x//y)"
   ]
  },
  {
   "cell_type": "markdown",
   "metadata": {},
   "source": [
    "* Modulo gives remainder of the division of x by y: x%y"
   ]
  },
  {
   "cell_type": "code",
   "execution_count": 13,
   "metadata": {},
   "outputs": [
    {
     "name": "stdout",
     "output_type": "stream",
     "text": [
      "2\n"
     ]
    }
   ],
   "source": [
    "print(x%y)"
   ]
  },
  {
   "cell_type": "markdown",
   "metadata": {},
   "source": [
    "Trying assigning the following expression to the variable x:\n",
    "$$ x = a + 2b - \\frac{1}{2}\\left((1.618)^c+\\frac{2}{7}\\right)$$\n",
    "where $a=1$, $b=4$, and $c=0.5$."
   ]
  },
  {
   "cell_type": "code",
   "execution_count": 14,
   "metadata": {},
   "outputs": [
    {
     "name": "stdout",
     "output_type": "stream",
     "text": [
      "x = 8.221\n"
     ]
    }
   ],
   "source": [
    "# assign values to variables\n",
    "a, b, c = 1, 4, 0.5\n",
    "\n",
    "# write expression for x\n",
    "x = a+2*b-0.5*(1.618**c + 2./7.)\n",
    "\n",
    "# print well-formatted value of x\n",
    "print('x = %.3f'%x)"
   ]
  },
  {
   "cell_type": "markdown",
   "metadata": {},
   "source": [
    "Python **modifiers** allow updation of variables.  \n",
    "For example, if you want to update x by adding 1 to it, you can write  \n",
    "x += 1  \n",
    "instead of  \n",
    "x = x+1"
   ]
  },
  {
   "cell_type": "code",
   "execution_count": 15,
   "metadata": {},
   "outputs": [
    {
     "name": "stdout",
     "output_type": "stream",
     "text": [
      "original values: x = 1 , y = 2\n",
      "swapped values: x = 2 , y = 1\n",
      "re-swapped values: x = 1 , y = 2\n"
     ]
    }
   ],
   "source": [
    "# write a code to swap the values of x and y\n",
    "x = 1\n",
    "y = 2\n",
    "\n",
    "print('original values: x =',x,', y =',y)\n",
    "\n",
    "# using a temporary variable\n",
    "tmp = x\n",
    "x   = y\n",
    "y   = tmp\n",
    "print('swapped values: x =',x,', y =',y)\n",
    "\n",
    "# using tuple unpacking\n",
    "x, y = y, x\n",
    "print('re-swapped values: x =',x,', y =',y)"
   ]
  },
  {
   "cell_type": "markdown",
   "metadata": {},
   "source": [
    "## Comparison operators"
   ]
  },
  {
   "cell_type": "code",
   "execution_count": 16,
   "metadata": {},
   "outputs": [
    {
     "name": "stdout",
     "output_type": "stream",
     "text": [
      "x = 10 , y = 12\n",
      "x > y  is False\n",
      "x < y  is True\n",
      "x == y is False\n",
      "x != y is True\n",
      "x >= y is False\n",
      "x <= y is True\n"
     ]
    }
   ],
   "source": [
    "x = 10\n",
    "y = 12\n",
    "\n",
    "print('x =',x,', y =',y)\n",
    "\n",
    "# Output: x > y is False\n",
    "print('x > y  is',x>y)\n",
    "\n",
    "# Output: x < y is True\n",
    "print('x < y  is',x<y)\n",
    "\n",
    "# Output: x == y is False\n",
    "print('x == y is',x==y)\n",
    "\n",
    "# Output: x != y is True\n",
    "print('x != y is',x!=y)\n",
    "\n",
    "# Output: x >= y is False\n",
    "print('x >= y is',x>=y)\n",
    "\n",
    "# Output: x <= y is True\n",
    "print('x <= y is',x<=y)"
   ]
  },
  {
   "cell_type": "markdown",
   "metadata": {},
   "source": [
    "## Logical operators"
   ]
  },
  {
   "cell_type": "code",
   "execution_count": 17,
   "metadata": {},
   "outputs": [
    {
     "name": "stdout",
     "output_type": "stream",
     "text": [
      "x = True , y = False\n",
      "x and y is False\n",
      "x or y is True\n",
      "not x is False\n"
     ]
    }
   ],
   "source": [
    "x = True\n",
    "y = False\n",
    "\n",
    "print('x =',x,', y =',y)\n",
    "\n",
    "# Output: x and y is False\n",
    "print('x and y is',x and y)\n",
    "\n",
    "# Output: x or y is True\n",
    "print('x or y is',x or y)\n",
    "\n",
    "# Output: not x is False\n",
    "print('not x is',not x)"
   ]
  },
  {
   "cell_type": "markdown",
   "metadata": {},
   "source": [
    "## Packages, Functions and Modules\n",
    "\n",
    "**Packages** are collection of related useful things that you can use to perform tasks quickly and easily.  \n",
    "**math** package contains standard mathematical **functions** like log, square root, etc."
   ]
  },
  {
   "cell_type": "code",
   "execution_count": 18,
   "metadata": {},
   "outputs": [],
   "source": [
    "# import allows us to use functions/modules/constants from a package\n",
    "import math            # imports the entire package\n",
    "from math import log   # only importing a function we need\n",
    "from math import pi,e  # importing constants we need, can include as many as needed separated by comma\n",
    "from math import *     # * stands for everything, same as import math"
   ]
  },
  {
   "cell_type": "markdown",
   "metadata": {},
   "source": [
    "## Conditional statements: If and While"
   ]
  },
  {
   "cell_type": "code",
   "execution_count": 19,
   "metadata": {},
   "outputs": [
    {
     "name": "stdout",
     "output_type": "stream",
     "text": [
      "Enter a whole number no greater than 10: 11\n",
      "Error: You entered a number greater than 10.\n"
     ]
    }
   ],
   "source": [
    "# if statement executes if the condition is true\n",
    "x = int(input(\"Enter a whole number no greater than 10: \"))\n",
    "if x>10:\n",
    "    print(\"Error: You entered a number greater than 10.\")\n",
    "else:\n",
    "    print(\"Your number is\", x)"
   ]
  },
  {
   "cell_type": "code",
   "execution_count": 20,
   "metadata": {},
   "outputs": [],
   "source": [
    "if x<=10 and x>=1:\n",
    "    print(\"Your number is just right!\")"
   ]
  },
  {
   "cell_type": "code",
   "execution_count": 21,
   "metadata": {},
   "outputs": [
    {
     "name": "stdout",
     "output_type": "stream",
     "text": [
      "Your number is greater than 10.\n"
     ]
    }
   ],
   "source": [
    "if x>10:\n",
    "    print(\"Your number is greater than 10.\")\n",
    "elif x>9:\n",
    "    print(\"Your number is OK, but you're cutting it close.\")\n",
    "else:\n",
    "    print(\"Your number is fine.\")"
   ]
  },
  {
   "cell_type": "code",
   "execution_count": 22,
   "metadata": {},
   "outputs": [
    {
     "name": "stdout",
     "output_type": "stream",
     "text": [
      "Enter a whole number no greater than 10: 2\n",
      "Your number is 2\n"
     ]
    }
   ],
   "source": [
    "# while statement keeps executing as long as the condition is true\n",
    "x = int(input(\"Enter a whole number no greater than 10: \"))\n",
    "while x>10:\n",
    "    print(\"Error: You entered a number greater than 10. Try again! \")\n",
    "    x = int(input(\"Enter a whole number no greater than 10: \"))\n",
    "print(\"Your number is\", x)"
   ]
  },
  {
   "cell_type": "markdown",
   "metadata": {},
   "source": [
    "### Control statements: Break and Continue"
   ]
  },
  {
   "cell_type": "code",
   "execution_count": 23,
   "metadata": {},
   "outputs": [
    {
     "name": "stdout",
     "output_type": "stream",
     "text": [
      "Enter a whole number no greater than 10: 16\n",
      "Error: You entered a number greater than 10. Try again! \n",
      "Enter a whole number no greater than 10: 5\n",
      "Your number is 5\n"
     ]
    }
   ],
   "source": [
    "# allow retry until user goes above 100\n",
    "x = int(input(\"Enter a whole number no greater than 10: \"))\n",
    "while x>10:\n",
    "    print(\"Error: You entered a number greater than 10. Try again! \")\n",
    "    x = int(input(\"Enter a whole number no greater than 10: \"))\n",
    "    if x>=100:    # this if statement is nested inside the while loop!\n",
    "        break     # exits from the while loop\n",
    "print(\"Your number is\", x)"
   ]
  },
  {
   "cell_type": "code",
   "execution_count": 24,
   "metadata": {},
   "outputs": [
    {
     "name": "stdout",
     "output_type": "stream",
     "text": [
      "Enter a whole number no greater than 10: 100\n",
      "Error: You entered a number greater than 10. Try again! \n",
      "Enter a whole number no greater than 10: 50\n",
      "Error: You entered a number greater than 10. Try again! \n",
      "Enter a whole number no greater than 10: 9\n",
      "Your number is 9\n"
     ]
    }
   ],
   "source": [
    "x = int(input(\"Enter a whole number no greater than 10: \"))\n",
    "while x>10:\n",
    "    print(\"Error: You entered a number greater than 10. Try again! \")\n",
    "    x = int(input(\"Enter a whole number no greater than 10: \"))\n",
    "    if x>=100:    \n",
    "        continue   # ignore only this value but keep continuing with the while loop\n",
    "print(\"Your number is\", x)"
   ]
  },
  {
   "cell_type": "markdown",
   "metadata": {},
   "source": [
    "# Try it yourself \n",
    "\n",
    "### Total 4 marks (1 mark each)\n",
    "\n",
    "1. Write a code to calculate the height of ball dropped from a building. The distance or height of a freely falling object is calculated using $s=\\frac{1}{2}gt^2$, where $g=9.81$ m/s$^2$ is the acceleration due to gravity of earth. Assign $g$ as a constant variable and assign the height of the building as $h=100$ m. Take $t$ as the time interval entered by the user. Compute the height of the ball $(h-s)$ as the location of the ball after it has freely-fallen for $t$ seconds."
   ]
  },
  {
   "cell_type": "code",
   "execution_count": 25,
   "metadata": {},
   "outputs": [
    {
     "name": "stdout",
     "output_type": "stream",
     "text": [
      "Enter the time of freefall in seconds: 20\n",
      "Time entered is too high; the ball has already landed at 4.515236409857309 s\n"
     ]
    }
   ],
   "source": [
    "import numpy as np\n",
    "\n",
    "g = 9.81   # acceleration due to earth's gravity, m/s^2\n",
    "H = 100    # total height of the building, m\n",
    "\n",
    "# accept number from user\n",
    "t = int(input(\"Enter the time of freefall in seconds: \"))\n",
    "\n",
    "s = 0.5*g*t**2\n",
    "t0 = np.sqrt(2*H/g)    # time taken to fall to the ground\n",
    "h = H-s\n",
    "\n",
    "if h>0:   # check if height is negative, meaning ball has already landed on the ground\n",
    "    print('Height of ball after',t,'s is',h,'m')\n",
    "else:\n",
    "    print('Time entered is too high; the ball has already landed at',t0,'s')"
   ]
  },
  {
   "cell_type": "markdown",
   "metadata": {},
   "source": [
    "2. Write a code to convert cartesian $(x,y)$ to polar $(r,\\theta)$ coordinates. The standard formula is $r = \\sqrt{x^2+y^2}, \\theta=\\tan^{-1}(y/x)$. Ask the user to enter $x$ and $y$ values, and print out the corresponding $r$ and $\\theta$ (in radians) values."
   ]
  },
  {
   "cell_type": "code",
   "execution_count": 26,
   "metadata": {},
   "outputs": [
    {
     "name": "stdout",
     "output_type": "stream",
     "text": [
      "Enter x = 4\n",
      "Enter y = 5\n",
      "(6.403,0.896 radians)\n"
     ]
    }
   ],
   "source": [
    "x = float(input('Enter x = '))\n",
    "y = float(input('Enter y = '))\n",
    "\n",
    "r, theta = np.sqrt(x**2+y**2), np.arctan(y/x)\n",
    "print('(%.3f,%.3f radians)'%(r,theta))"
   ]
  },
  {
   "cell_type": "markdown",
   "metadata": {},
   "source": [
    "3. Write a code that keeps accepting pairs of the number in a while loop with the only condition that either of the numbers must be odd and even, i.e. they cannot be both odd or even (see pg. 44 in book, make sure you understand the code)."
   ]
  },
  {
   "cell_type": "code",
   "execution_count": 27,
   "metadata": {},
   "outputs": [
    {
     "name": "stdout",
     "output_type": "stream",
     "text": [
      "Enter x = 7\n",
      "Enter y = 1\n",
      "Error: both numbers cannot be odd or even!\n",
      "Enter one odd and one even number\n",
      "Enter x = 8\n",
      "Enter y = 6\n",
      "Error: both numbers cannot be odd or even!\n",
      "Enter one odd and one even number\n",
      "Enter x = 1\n",
      "Enter y = 6\n",
      "x = 1.0 , y = 6.0\n"
     ]
    }
   ],
   "source": [
    "x = float(input('Enter x = '))\n",
    "y = float(input('Enter y = '))\n",
    "\n",
    "while (x+y)%2==0:\n",
    "    print('Error: both numbers cannot be odd or even!')\n",
    "    print('Enter one odd and one even number')\n",
    "    x = float(input('Enter x = '))\n",
    "    y = float(input('Enter y = '))\n",
    "\n",
    "print('x =',x,', y =',y)"
   ]
  },
  {
   "cell_type": "markdown",
   "metadata": {},
   "source": [
    "4. Print the first 100 fibonacci numbers."
   ]
  },
  {
   "cell_type": "code",
   "execution_count": 28,
   "metadata": {},
   "outputs": [
    {
     "name": "stdout",
     "output_type": "stream",
     "text": [
      "index\tnumber\n",
      "1\t0\n",
      "2\t1\n",
      "3\t1\n",
      "4\t2\n",
      "5\t3\n",
      "6\t5\n",
      "7\t8\n",
      "8\t13\n",
      "9\t21\n",
      "10\t34\n",
      "11\t55\n",
      "12\t89\n",
      "13\t144\n",
      "14\t233\n",
      "15\t377\n",
      "16\t610\n",
      "17\t987\n",
      "18\t1597\n",
      "19\t2584\n",
      "20\t4181\n",
      "21\t6765\n",
      "22\t10946\n",
      "23\t17711\n",
      "24\t28657\n",
      "25\t46368\n",
      "26\t75025\n",
      "27\t121393\n",
      "28\t196418\n",
      "29\t317811\n",
      "30\t514229\n",
      "31\t832040\n",
      "32\t1346269\n",
      "33\t2178309\n",
      "34\t3524578\n",
      "35\t5702887\n",
      "36\t9227465\n",
      "37\t14930352\n",
      "38\t24157817\n",
      "39\t39088169\n",
      "40\t63245986\n",
      "41\t102334155\n",
      "42\t165580141\n",
      "43\t267914296\n",
      "44\t433494437\n",
      "45\t701408733\n",
      "46\t1134903170\n",
      "47\t1836311903\n",
      "48\t2971215073\n",
      "49\t4807526976\n",
      "50\t7778742049\n",
      "51\t12586269025\n",
      "52\t20365011074\n",
      "53\t32951280099\n",
      "54\t53316291173\n",
      "55\t86267571272\n",
      "56\t139583862445\n",
      "57\t225851433717\n",
      "58\t365435296162\n",
      "59\t591286729879\n",
      "60\t956722026041\n",
      "61\t1548008755920\n",
      "62\t2504730781961\n",
      "63\t4052739537881\n",
      "64\t6557470319842\n",
      "65\t10610209857723\n",
      "66\t17167680177565\n",
      "67\t27777890035288\n",
      "68\t44945570212853\n",
      "69\t72723460248141\n",
      "70\t117669030460994\n",
      "71\t190392490709135\n",
      "72\t308061521170129\n",
      "73\t498454011879264\n",
      "74\t806515533049393\n",
      "75\t1304969544928657\n",
      "76\t2111485077978050\n",
      "77\t3416454622906707\n",
      "78\t5527939700884757\n",
      "79\t8944394323791464\n",
      "80\t14472334024676221\n",
      "81\t23416728348467685\n",
      "82\t37889062373143906\n",
      "83\t61305790721611591\n",
      "84\t99194853094755497\n",
      "85\t160500643816367088\n",
      "86\t259695496911122585\n",
      "87\t420196140727489673\n",
      "88\t679891637638612258\n",
      "89\t1100087778366101931\n",
      "90\t1779979416004714189\n",
      "91\t2880067194370816120\n",
      "92\t4660046610375530309\n",
      "93\t7540113804746346429\n",
      "94\t12200160415121876738\n",
      "95\t19740274219868223167\n",
      "96\t31940434634990099905\n",
      "97\t51680708854858323072\n",
      "98\t83621143489848422977\n",
      "99\t135301852344706746049\n",
      "100\t218922995834555169026\n"
     ]
    }
   ],
   "source": [
    "# restriction: using while loop\n",
    "count = 2    # counter to print only first 100 numbers, starts at 2 since the first two numbers are already assigned\n",
    "a, b = 0, 1\n",
    "\n",
    "print('index\\t'+r'number')\n",
    "print('1\\t'+str(a))\n",
    "print('2\\t'+str(b))\n",
    "\n",
    "while count<100:\n",
    "    a, b = b, a+b\n",
    "    count += 1\n",
    "    print(str(count)+'\\t'+str(b))"
   ]
  }
 ],
 "metadata": {
  "kernelspec": {
   "display_name": "Python 3 (ipykernel)",
   "language": "python",
   "name": "python3"
  },
  "language_info": {
   "codemirror_mode": {
    "name": "ipython",
    "version": 3
   },
   "file_extension": ".py",
   "mimetype": "text/x-python",
   "name": "python",
   "nbconvert_exporter": "python",
   "pygments_lexer": "ipython3",
   "version": "3.8.5"
  }
 },
 "nbformat": 4,
 "nbformat_minor": 2
}
