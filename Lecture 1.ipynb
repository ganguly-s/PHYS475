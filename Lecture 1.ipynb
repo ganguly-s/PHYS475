{
 "cells": [
  {
   "cell_type": "markdown",
   "metadata": {},
   "source": [
    "# Python Basics\n",
    "\n",
    "## Python Installation -- Conda\n",
    "\n",
    "The best way set-up an scientific Python environment is to use the cross-platform package manager **\"conda\"** from Continuum Analytics.\n",
    "* First download and install miniconda http://conda.pydata.org/miniconda.html or Anaconda (download Mac or Windows version depending on your operation system). Make sure you install the latest version (Python 3.12).\n",
    "* Next, to install the required libraries, simply run the following at your terminal:\n",
    "\n",
    "        $ conda install jupyter numpy scipy matplotlib \n",
    "  $ conda install spyder sympy cython vpython \n",
    "* After you installed jupyter, you could run it from the terminal:\n",
    "\n",
    "        $ jupyter notebook\n",
    "    \n",
    "* Then create a new ipython kernel to start writing your script!"
   ]
  },
  {
   "cell_type": "code",
   "execution_count": 1,
   "metadata": {},
   "outputs": [
    {
     "name": "stdout",
     "output_type": "stream",
     "text": [
      "Welcome to PHYS475: Computational Physics using Python\n"
     ]
    }
   ],
   "source": [
    "#get started\n",
    "print(\"Welcome to PHYS475: Computational Physics using Python\")"
   ]
  },
  {
   "cell_type": "markdown",
   "metadata": {},
   "source": [
    "## Variables \n",
    "\n",
    "Variables represent quantities of interest such as numbers, vectors or matrices.\n",
    "\n",
    "Variables can be assigned values. The following is an **assignment statement**, which tells the computer the value that the variable holds."
   ]
  },
  {
   "cell_type": "code",
   "execution_count": 2,
   "metadata": {},
   "outputs": [],
   "source": [
    "# variable assignments with =\n",
    "# different from C/fortran, no need to specify the type of a varialbe, dynamically typed language\n",
    "x = 1."
   ]
  },
  {
   "cell_type": "markdown",
   "metadata": {},
   "source": [
    "**Variable naming rules:**\n",
    "  * No limit on size of variable name\n",
    "  * Variables names **cannot start with numbers**, but can start with letters or underscore:  \n",
    "        **\\_underscore  \n",
    "        underscore\\_**   \n",
    "  * Contain letters, numbers, underscore (but no other symbols or spaces):  \n",
    "        **password1  \n",
    "        n00b  \n",
    "        un_der_scores**\n",
    "  * Names are case sensitive:\n",
    "    **case_sensitive**, **CASE_SENSITIVE**, and **Case_Sensitive** are each a different variable.  \n",
    "\n",
    "By convention, variable names start with a lower-case letter, and Class names start with a capital letter.  \n",
    "\n",
    "In addition, there are a number of Python keywords that cannot be used as variable names, e.g. **False**, **except**, **if**, **and**, **as**, **assert**, **print**,......  \n",
    "  \n",
    "**Always choose names that help you remember what the variable represents.** (adding comments is a good practice)"
   ]
  },
  {
   "cell_type": "markdown",
   "metadata": {},
   "source": [
    "## Data types\n",
    "\n",
    "* **Integer**$~~~~$-- $1$, $0$, $-286784$\n",
    "* **Float**$~~~~~~~$-- $3.14159$, $-6.63\\times10^{-34}$, $1.0$\n",
    "* **Complex**$~$-- $1+2j$, $-3.5-0.4j$"
   ]
  },
  {
   "cell_type": "code",
   "execution_count": 3,
   "metadata": {},
   "outputs": [
    {
     "name": "stdout",
     "output_type": "stream",
     "text": [
      "1.0 <class 'float'>\n"
     ]
    }
   ],
   "source": [
    "print(x, type(x))"
   ]
  },
  {
   "cell_type": "code",
   "execution_count": 5,
   "metadata": {},
   "outputs": [],
   "source": [
    "# try to assign different values to x and see what the above statement prints\n",
    "# try 1, 1+2j, -3.14, etc.\n",
    "\n"
   ]
  },
  {
   "cell_type": "markdown",
   "metadata": {},
   "source": [
    "Other data types  \n",
    "* **String**: stores text as strings of letters, punctuations, symbols, digits, etc., enclosed in \" \" or ' '  \n",
    "    x = \"This is a string\"  \n",
    "    x = \"1.0\"\n",
    "* **Boolean**: true or false "
   ]
  },
  {
   "cell_type": "code",
   "execution_count": 13,
   "metadata": {},
   "outputs": [],
   "source": [
    "# try to print value and data type of the following variables\n",
    "a = \"1.0\"\n",
    "c = True\n",
    "\n"
   ]
  },
  {
   "cell_type": "markdown",
   "metadata": {},
   "source": [
    "## Output Statement\n",
    "\n",
    "Consider the following code:"
   ]
  },
  {
   "cell_type": "code",
   "execution_count": 6,
   "metadata": {},
   "outputs": [
    {
     "name": "stdout",
     "output_type": "stream",
     "text": [
      "1 2\n"
     ]
    }
   ],
   "source": [
    "x = 1\n",
    "y = 2\n",
    "print(x,y)"
   ]
  },
  {
   "cell_type": "markdown",
   "metadata": {},
   "source": [
    "The comma in the print statement is printed as space.\n",
    "The comma is a **separator**. By default, the separator is assigned a single space.\n",
    "The following is a nicer way to print the values:"
   ]
  },
  {
   "cell_type": "code",
   "execution_count": 7,
   "metadata": {},
   "outputs": [
    {
     "name": "stdout",
     "output_type": "stream",
     "text": [
      "The value of x is 1 and the value of y is 2\n"
     ]
    }
   ],
   "source": [
    "print(\"The value of x is\",x,\"and the value of y is\",y)"
   ]
  },
  {
   "cell_type": "markdown",
   "metadata": {},
   "source": [
    "You can assign different meaning to the comma separator, using the keyword 'sep'. For e.g.: sep='...' or sep=''."
   ]
  },
  {
   "cell_type": "code",
   "execution_count": 8,
   "metadata": {},
   "outputs": [
    {
     "name": "stdout",
     "output_type": "stream",
     "text": [
      "1.5...(2+3j)\n",
      "1.5(2+3j)\n"
     ]
    }
   ],
   "source": [
    "# run the following\n",
    "x = 1.5\n",
    "z = 2+3j\n",
    "print(x,z,sep='...')  # adds ... in place of comma \n",
    "print(x,z,sep='')     # adds no space in place of comma"
   ]
  },
  {
   "cell_type": "markdown",
   "metadata": {},
   "source": [
    "## Output formatting\n",
    "\n",
    "**String modulo (%) operator** helps embed values within a string. The format of the values can be specified within the string."
   ]
  },
  {
   "cell_type": "code",
   "execution_count": 14,
   "metadata": {},
   "outputs": [
    {
     "name": "stdout",
     "output_type": "stream",
     "text": [
      "x = 1.50, y = 0200\n"
     ]
    }
   ],
   "source": [
    "x = 1.5\n",
    "y = 200\n",
    "print(\"x = %.2f, y = %04d\"%(x,y))"
   ]
  },
  {
   "cell_type": "markdown",
   "metadata": {},
   "source": [
    "**Format() method** is a built-in function that allows flexible string handling and formatting operations."
   ]
  },
  {
   "cell_type": "code",
   "execution_count": 18,
   "metadata": {},
   "outputs": [
    {
     "name": "stdout",
     "output_type": "stream",
     "text": [
      "x = 1.5, y = 200\n",
      "x = 1.50, y = 0200\n"
     ]
    }
   ],
   "source": [
    "# Using indexed placeholders for string formatting\n",
    "print(\"x = {0}, y = {1}\".format(x,y))\n",
    "\n",
    "# Formatting with format()\n",
    "print(\"x = {0:.2f}, y = {1:04d}\".format(x,y))"
   ]
  },
  {
   "cell_type": "markdown",
   "metadata": {},
   "source": [
    "## Arithmetic\n",
    "\n",
    "* Addition $~~~~~~~$x+y\n",
    "* Subtraction $~~$x-y\n",
    "* Multiplication x*y\n",
    "* Division $~~~~~~~$x/y\n",
    "* Exponent $~~~~~$x**y"
   ]
  },
  {
   "cell_type": "code",
   "execution_count": 37,
   "metadata": {},
   "outputs": [
    {
     "name": "stdout",
     "output_type": "stream",
     "text": [
      "x + y = 17\n",
      "x - y = 11\n",
      "x * y = 42\n",
      "x / y = 4.666666666666667\n",
      "x // y = 4\n",
      "x ** y = 2744\n"
     ]
    }
   ],
   "source": [
    "x = 14\n",
    "y = 3\n",
    "\n",
    "# Output: x + y = 17\n",
    "print('x + y =',x+y)\n",
    "\n",
    "# Output: x - y = 11\n",
    "print('x - y =',x-y)\n",
    "\n",
    "# Output: x * y = 42\n",
    "print('x * y =',x*y)\n",
    "\n",
    "# Output: x / y = 4.67\n",
    "print('x / y =',x/y)\n",
    "\n",
    "# Output: x // y = 4 \n",
    "# division into integer adjusted to the left in the number line, note negative number)\n",
    "print('x // y =',x//y)\n",
    "\n",
    "# Output: x ** y = 2744\n",
    "print('x ** y =',x**y)"
   ]
  },
  {
   "cell_type": "markdown",
   "metadata": {},
   "source": [
    "* Division rounded to nearest integer: x//y"
   ]
  },
  {
   "cell_type": "code",
   "execution_count": 19,
   "metadata": {},
   "outputs": [
    {
     "name": "stdout",
     "output_type": "stream",
     "text": [
      "4\n"
     ]
    }
   ],
   "source": [
    "x = 14\n",
    "y = 3\n",
    "print(x//y)"
   ]
  },
  {
   "cell_type": "markdown",
   "metadata": {},
   "source": [
    "* Modulo gives remainder of the division of x by y: x%y"
   ]
  },
  {
   "cell_type": "code",
   "execution_count": 20,
   "metadata": {},
   "outputs": [
    {
     "name": "stdout",
     "output_type": "stream",
     "text": [
      "2\n"
     ]
    }
   ],
   "source": [
    "print(x%y)"
   ]
  },
  {
   "cell_type": "markdown",
   "metadata": {},
   "source": [
    "Trying assigning the following expression to the variable x:\n",
    "$$ x = a + 2b - \\frac{1}{2}\\left((1.618)^c+\\frac{2}{7}\\right)$$\n",
    "where $a=1$, $b=4$, and $c=0.5$."
   ]
  },
  {
   "cell_type": "code",
   "execution_count": null,
   "metadata": {},
   "outputs": [],
   "source": [
    "# assign values to variables\n",
    "\n",
    "# write expression for x\n",
    "\n",
    "# print well-formatted value of x"
   ]
  },
  {
   "cell_type": "markdown",
   "metadata": {},
   "source": [
    "Python **modifiers** allow updation of variables.  \n",
    "For example, if you want to update x by adding 1 to it, you can write  \n",
    "x += 1  \n",
    "instead of  \n",
    "x = x+1"
   ]
  },
  {
   "cell_type": "code",
   "execution_count": null,
   "metadata": {},
   "outputs": [],
   "source": [
    "# write a code to swap the values of x and y\n",
    "x = 1\n",
    "y = 2\n"
   ]
  },
  {
   "cell_type": "markdown",
   "metadata": {},
   "source": [
    "## Comparison operators"
   ]
  },
  {
   "cell_type": "code",
   "execution_count": 39,
   "metadata": {},
   "outputs": [
    {
     "name": "stdout",
     "output_type": "stream",
     "text": [
      "x > y  is False\n",
      "x < y  is True\n",
      "x == y is False\n",
      "x != y is True\n",
      "x >= y is False\n",
      "x <= y is True\n"
     ]
    }
   ],
   "source": [
    "x = 10\n",
    "y = 12\n",
    "\n",
    "# Output: x > y is False\n",
    "print('x > y  is',x>y)\n",
    "\n",
    "# Output: x < y is True\n",
    "print('x < y  is',x<y)\n",
    "\n",
    "# Output: x == y is False\n",
    "print('x == y is',x==y)\n",
    "\n",
    "# Output: x != y is True\n",
    "print('x != y is',x!=y)\n",
    "\n",
    "# Output: x >= y is False\n",
    "print('x >= y is',x>=y)\n",
    "\n",
    "# Output: x <= y is True\n",
    "print('x <= y is',x<=y)"
   ]
  },
  {
   "cell_type": "markdown",
   "metadata": {},
   "source": [
    "## Logical operators"
   ]
  },
  {
   "cell_type": "code",
   "execution_count": 40,
   "metadata": {},
   "outputs": [
    {
     "name": "stdout",
     "output_type": "stream",
     "text": [
      "x and y is False\n",
      "x or y is True\n",
      "not x is False\n"
     ]
    }
   ],
   "source": [
    "x = True\n",
    "y = False\n",
    "\n",
    "# Output: x and y is False\n",
    "print('x and y is',x and y)\n",
    "\n",
    "# Output: x or y is True\n",
    "print('x or y is',x or y)\n",
    "\n",
    "# Output: not x is False\n",
    "print('not x is',not x)"
   ]
  },
  {
   "cell_type": "markdown",
   "metadata": {},
   "source": [
    "## Packages, Functions and Modules\n",
    "\n",
    "**Packages** are collection of related useful things that you can use to perform tasks quickly and easily.  \n",
    "**math** package contains standard mathematical **functions** like log, square root, etc."
   ]
  },
  {
   "cell_type": "code",
   "execution_count": 21,
   "metadata": {},
   "outputs": [],
   "source": [
    "# import allows us to use functions/modules/constants from a package\n",
    "import math            # imports the entire package\n",
    "from math import log   # only importing a function we need\n",
    "from math import pi,e  # importing constants we need, can include as many as needed separated by comma\n",
    "from math import *     # * stands for everything, same as import math"
   ]
  },
  {
   "cell_type": "markdown",
   "metadata": {},
   "source": [
    "## Conditional statements: If and While"
   ]
  },
  {
   "cell_type": "code",
   "execution_count": 26,
   "metadata": {},
   "outputs": [
    {
     "name": "stdout",
     "output_type": "stream",
     "text": [
      "Enter a whole number no greater than 10: 5\n",
      "Your number is 5\n"
     ]
    }
   ],
   "source": [
    "# if statement executes if the condition is true\n",
    "x = int(input(\"Enter a whole number no greater than 10: \"))\n",
    "if x>10:\n",
    "    print(\"Error: You entered a number greater than 10.\")\n",
    "else:\n",
    "    print(\"Your number is\", x)"
   ]
  },
  {
   "cell_type": "code",
   "execution_count": 27,
   "metadata": {},
   "outputs": [
    {
     "name": "stdout",
     "output_type": "stream",
     "text": [
      "Your number is just right!\n"
     ]
    }
   ],
   "source": [
    "if x<=10 and x>=1:\n",
    "    print(\"Your number is just right!\")"
   ]
  },
  {
   "cell_type": "code",
   "execution_count": 28,
   "metadata": {},
   "outputs": [
    {
     "name": "stdout",
     "output_type": "stream",
     "text": [
      "Your number is fine.\n"
     ]
    }
   ],
   "source": [
    "if x>10:\n",
    "    print(\"Your number is greater than 10.\")\n",
    "elif x>9:\n",
    "    print(\"Your number is OK, but you're cutting it close.\")\n",
    "else:\n",
    "    print(\"Your number is fine.\")"
   ]
  },
  {
   "cell_type": "code",
   "execution_count": 30,
   "metadata": {},
   "outputs": [
    {
     "name": "stdout",
     "output_type": "stream",
     "text": [
      "Enter a whole number no greater than 10: 20\n",
      "Error: You entered a number greater than 10. Try again! \n",
      "Enter a whole number no greater than 10: 15\n",
      "Error: You entered a number greater than 10. Try again! \n",
      "Enter a whole number no greater than 10: 12\n",
      "Error: You entered a number greater than 10. Try again! \n",
      "Enter a whole number no greater than 10: 6\n",
      "Your number is 6\n"
     ]
    }
   ],
   "source": [
    "# while statement keeps executing as long as the condition is true\n",
    "x = int(input(\"Enter a whole number no greater than 10: \"))\n",
    "while x>10:\n",
    "    print(\"Error: You entered a number greater than 10. Try again! \")\n",
    "    x = int(input(\"Enter a whole number no greater than 10: \"))\n",
    "print(\"Your number is\", x)"
   ]
  },
  {
   "cell_type": "markdown",
   "metadata": {},
   "source": [
    "### Control statements: Break and Continue"
   ]
  },
  {
   "cell_type": "code",
   "execution_count": 34,
   "metadata": {},
   "outputs": [
    {
     "name": "stdout",
     "output_type": "stream",
     "text": [
      "Enter a whole number no greater than 10: 20\n",
      "Error: You entered a number greater than 10. Try again! \n",
      "Enter a whole number no greater than 10: 100\n",
      "Your number is 100\n"
     ]
    }
   ],
   "source": [
    "# allow retry until user goes above 100\n",
    "x = int(input(\"Enter a whole number no greater than 10: \"))\n",
    "while x>10:\n",
    "    print(\"Error: You entered a number greater than 10. Try again! \")\n",
    "    x = int(input(\"Enter a whole number no greater than 10: \"))\n",
    "    if x>=100:    # this if statement is nested inside the while loop!\n",
    "        break     # exits from the while loop\n",
    "print(\"Your number is\", x)"
   ]
  },
  {
   "cell_type": "code",
   "execution_count": 36,
   "metadata": {},
   "outputs": [
    {
     "name": "stdout",
     "output_type": "stream",
     "text": [
      "Enter a whole number no greater than 10: 100\n",
      "Error: You entered a number greater than 10. Try again! \n",
      "Enter a whole number no greater than 10: 11\n",
      "Error: You entered a number greater than 10. Try again! \n",
      "Enter a whole number no greater than 10: 10\n",
      "Your number is 10\n"
     ]
    }
   ],
   "source": [
    "x = int(input(\"Enter a whole number no greater than 10: \"))\n",
    "while x>10:\n",
    "    print(\"Error: You entered a number greater than 10. Try again! \")\n",
    "    x = int(input(\"Enter a whole number no greater than 10: \"))\n",
    "    if x>=100:    \n",
    "        continue   # ignore only this value but keep continuing with the while loop\n",
    "print(\"Your number is\", x)"
   ]
  },
  {
   "cell_type": "markdown",
   "metadata": {},
   "source": [
    "# Try it yourself\n",
    "\n",
    "1. Write a code to calculate the height of ball dropped from a building. The distance or height of a freely falling object is calculated using $s=\\frac{1}{2}gt^2$, where $g=9.81$ m/s$^2$ is the acceleration due to gravity of earth. Assign $g$ as a constant variable and assign the height of the building as $h=100$ m. Take $t$ as the time interval entered by the user. Compute the height of the ball $(h-s)$ as the location of the ball after it has freely-fallen for $t$ seconds."
   ]
  },
  {
   "cell_type": "markdown",
   "metadata": {},
   "source": [
    "2. Write a code to covert cartesian $(x,y)$ to polar $(r,\\theta)$ coordinates. The standard formula is $r = \\sqrt{x^2+y^2}, \\theta=\\tan^{-1}(y/x)$. Ask the user to enter $x$ and $y$ values, and print out the corresponding $r$ and $\\theta$ (in radians) values."
   ]
  },
  {
   "cell_type": "markdown",
   "metadata": {},
   "source": [
    "3. Write a code that keeps accepting pairs of the number in a while loop with the only condition that either of the numbers must be odd and even, i.e. they cannot be both odd or even (see pg. 44 in book, make sure you understand the code)."
   ]
  },
  {
   "cell_type": "markdown",
   "metadata": {},
   "source": [
    "4. Print the first 100 fibonacci numbers."
   ]
  }
 ],
 "metadata": {
  "kernelspec": {
   "display_name": "Python 3 (ipykernel)",
   "language": "python",
   "name": "python3"
  },
  "language_info": {
   "codemirror_mode": {
    "name": "ipython",
    "version": 3
   },
   "file_extension": ".py",
   "mimetype": "text/x-python",
   "name": "python",
   "nbconvert_exporter": "python",
   "pygments_lexer": "ipython3",
   "version": "3.8.5"
  }
 },
 "nbformat": 4,
 "nbformat_minor": 2
}
