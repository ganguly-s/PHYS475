{
 "cells": [
  {
   "cell_type": "markdown",
   "id": "4c168e57",
   "metadata": {},
   "source": [
    "# Accuracy and Speed (continued)\n",
    "\n",
    "## Program Speed\n",
    "\n",
    "### Truncation and Discretization error\n",
    "**Truncation error** is the error made by truncating an infinite sum and approximating it by a finite sum.  \n",
    "**Discretization error** is the error due to taking a finite number of steps, as opposed to an infinitely small (or continuous) one."
   ]
  },
  {
   "cell_type": "markdown",
   "id": "1c3648b9",
   "metadata": {},
   "source": [
    "### Sine function\n",
    "\n",
    "$$ \\sin x = x - \\frac{x^3}{3!} + \\frac{x^5}{5!} - \\frac{x^7}{7!} + ... = \\sum_{n=1}^N \\frac{(-1)^{n-1}x^{2n-1}}{(2n-1)!}$$"
   ]
  },
  {
   "cell_type": "code",
   "execution_count": null,
   "id": "5131b3d0",
   "metadata": {},
   "outputs": [],
   "source": [
    "import numpy as np\n",
    "import time\n",
    "start_time = time.time()\n",
    "\n",
    "def sinusoid(x, n):  \n",
    "    sine = 0.0\n",
    "    for i in range(1,n+1):\n",
    "        sine += (-1)**(i-1)*x**(2*i-1)/np.math.factorial(2*i-1)\n",
    "    return sine\n",
    "\n",
    "print(sinusoid(5.8,20))\n",
    "print(\"Code execution time: \", (time.time() - start_time),\"s\")"
   ]
  },
  {
   "cell_type": "markdown",
   "id": "2672ec77",
   "metadata": {},
   "source": [
    "$$ {\\rm nth\\ term}: \\frac{-x^2}{(2n-1)(2n-2)}\\times (n-1){\\rm th\\ term}$$"
   ]
  },
  {
   "cell_type": "code",
   "execution_count": null,
   "id": "34286f2f",
   "metadata": {},
   "outputs": [],
   "source": [
    "start_time = time.time()\n",
    "\n",
    "def sine_nterm(x, n):\n",
    "    sine = 0.0\n",
    "    n_minus_1th = x\n",
    "    sine = n_minus_1th\n",
    "    print(\"n \\t nth term \\t sin(x)\")\n",
    "    for i in range(2,n+1):\n",
    "        nth = n_minus_1th*(-x*x)/(2*i-1)/(2*i-2)\n",
    "        sine += nth\n",
    "        n_minus_1th = nth\n",
    "        print(i,nth,sine)\n",
    "    return sine\n",
    "\n",
    "print(\"\\n\",sine_nterm(5.8,20))\n",
    "print(\"\\nCode execution time: \", (time.time() - start_time),\"s\")"
   ]
  },
  {
   "cell_type": "code",
   "execution_count": null,
   "id": "0ef24344",
   "metadata": {},
   "outputs": [],
   "source": [
    "print(\"\\n\",sine_nterm(5.8,25))"
   ]
  },
  {
   "cell_type": "markdown",
   "id": "800e00ee",
   "metadata": {},
   "source": [
    "Beyond $n=20$, the result is the same. The new term ($n\\geq21$) is smaller than the round-off error $$\\left|\\frac{\\rm nth\\ term}{\\rm sum}\\right|<10^{-16}$$  \n",
    "Hence, $n=20$ is a good place to stop! No use going any further."
   ]
  },
  {
   "cell_type": "markdown",
   "id": "f3cad8f3",
   "metadata": {},
   "source": [
    "### Quantum Harmonic Oscillator at Finite Temperature\n",
    "The quantum harmonic oscillator has energy levels \n",
    "$$E_n=\\hslash\\omega\\left(n+\\frac{1}{2}\\right),\\quad \\textrm{where}\\ n=0,1,2,...,\\infty$$\n",
    "As shown by Boltzmann and Gibbs, the average energy of a simple harmonic oscillator at temperature $T$ is\n",
    "$$ \\langle E \\rangle = \\frac{1}{Z}\\sum_{n=0}^\\infty E_n e^{-\\beta E_n} $$\n",
    "where $\\beta=1/(k_B T)$ with $k_B$ being the Boltzmann constant, and $Z=\\sum_{n=0}^\\infty e^{-\\beta E_n}$. Assuming $\\hslash=\\omega=1$, we can approximate the value of $\\langle E\\rangle$ when $k_BT=100$, and adding the first 1000 terms.  \n",
    "Note: as $n$ becomes large, each term gets smaller."
   ]
  },
  {
   "cell_type": "code",
   "execution_count": null,
   "id": "433134c4",
   "metadata": {},
   "outputs": [],
   "source": [
    "import time\n",
    "import numpy as np\n",
    "# variables that might need to be changed defined at the top \n",
    "# this helps in faster modification of code\n",
    "terms = 1000      # increase this to a million and a billion (don't!!!)\n",
    "beta = 1/100\n",
    "S = 0.0\n",
    "Z = 0.0\n",
    "start = time.time()\n",
    "for n in range(terms):\n",
    "    E = n + 0.5\n",
    "    weight = np.exp(-beta*E)\n",
    "    S += weight*E     # both sums carried out in one 'for' loop, in one operation\n",
    "    Z += weight\n",
    "print(S/Z)\n",
    "end = time.time()\n",
    "print(f\"Code execution time = {end-start:.6f} s\")"
   ]
  },
  {
   "cell_type": "markdown",
   "id": "a9b66bea",
   "metadata": {},
   "source": [
    "### Lesson: Must find an appropriate balance between speed and accuracy\n",
    "Take a moment to predict how long it will take to compute the code. Do a rough estimate of how many operations need to be performed. If it hits a billion, you must revisit your algorithm to find a better way."
   ]
  },
  {
   "cell_type": "code",
   "execution_count": null,
   "id": "b7df0c5e",
   "metadata": {},
   "outputs": [],
   "source": [
    "# matrix multiplication\n",
    "import numpy as np\n",
    "N = 100\n",
    "A = np.random.random((N,N))*10\n",
    "B = np.random.random((N,N))*10\n",
    "C = np.zeros([N,N])\n",
    "\n",
    "start = time.time()\n",
    "\n",
    "# 2N^3 operations in total: for N=1000, this is 2*10^9! must not proceed!\n",
    "for i in range(N):    # <-- N times\n",
    "    for j in range(N):   # <-- N times\n",
    "        for k in range(N):   # <-- N times\n",
    "            C[i,j] += A[i,k]*B[k,j]   # <-- multiplication and addition = 2 operations\n",
    "#print(A,B,C)\n",
    "end = time.time()\n",
    "print(f\"Code execution time = {end-start:.6f} s\")"
   ]
  },
  {
   "cell_type": "code",
   "execution_count": null,
   "id": "26d93da4",
   "metadata": {},
   "outputs": [],
   "source": [
    "# using built-in function from optimized libraries such as numpy\n",
    "start = time.time()\n",
    "Cdot = np.dot(A,B)\n",
    "print(f\"Code execution time = {time.time()-start:.6f} s\")"
   ]
  },
  {
   "cell_type": "markdown",
   "id": "a966cc8f",
   "metadata": {},
   "source": [
    "## Time Complexity\n",
    "\n",
    "Time complexity is the computational complexity of an algorithm, or the amount of computer time it takes to run an algorithm. **Not the same as actual run-time of a code (given by the `time.time()` function above)!**  \n",
    "The actual time to execute a code is **machine-dependent** (memory, processor speed, network load, etc.).  \n",
    "We use **Big-$\\mathcal{O}$ notation** to denote the time complexity of an algorithm."
   ]
  },
  {
   "cell_type": "code",
   "execution_count": null,
   "id": "493bf10b",
   "metadata": {},
   "outputs": [],
   "source": [
    "# constant: O(1)\n",
    "print(\"Hello World!\")"
   ]
  },
  {
   "cell_type": "code",
   "execution_count": null,
   "id": "b5456bdd",
   "metadata": {},
   "outputs": [],
   "source": [
    "# linear: O(n)\n",
    "for i in range(10):\n",
    "    print(\"Hello World!\")"
   ]
  },
  {
   "cell_type": "code",
   "execution_count": null,
   "id": "1159ddf7",
   "metadata": {},
   "outputs": [],
   "source": [
    "# logarithmic: O(log_2(n)): n=8, log_2(8)=3\n",
    "for i in range(0,8,2):\n",
    "    print(\"Hello World!\")"
   ]
  },
  {
   "cell_type": "markdown",
   "id": "662b8f82",
   "metadata": {},
   "source": [
    "### Finding the complexity"
   ]
  },
  {
   "cell_type": "code",
   "execution_count": null,
   "id": "01da74da",
   "metadata": {},
   "outputs": [],
   "source": [
    "# example from Geeks for Geeks\n",
    "# A function to calculate the sum of the elements in an array\n",
    "def list_sum(A, n):\n",
    "    sum = 0              # cost = 1, assigning value to sum\n",
    "    for i in range(n):   # cost = 1 (assigning i)+ (n+1) (checking if i<n) + (n+1) (incrementing i)\n",
    "        sum += A[i]      # cost = 2 (adding and assigning), done 'n' times\n",
    "    return sum           # cost = 1 returning the value\n",
    "\n",
    "# cost = 1+(1+2*(n+1))+(2*n)+1 = 4n+5 = O(n)\n",
    "\n",
    "# A sample array\n",
    "A = [5, 6, 1, 2]\n",
    "\n",
    "# Finding the number of elements in the array\n",
    "n = len(A)\n",
    "\n",
    "# Call the function and print the result\n",
    "print(list_sum(A, n))"
   ]
  },
  {
   "cell_type": "markdown",
   "id": "5848af83",
   "metadata": {},
   "source": [
    "# Try it yourself\n",
    "\n",
    "### Total 4 marks\n",
    "\n",
    "Suppose you want to calculate the value of the integral\n",
    "$$ I = \\int_{-1}^1 \\sqrt{1-x^2}\\ dx $$\n",
    "This is the area of a semicircle of radius 1. Its value must be $\\pi/2=1.57079632679....$.  \n",
    "Alternatively, we can evaluate the integral on the computer by dividing the domain of integration into a large number $N$ of slices of width $h=2/N$ each and then using the Riemann definition of the integral:\n",
    "$$I=\\lim_{N\\to\\infty}\\sum_{k=1}^Nhy_k$$\n",
    "where \n",
    "$$ y_k = \\sqrt{1-x_k^2}\\quad {\\rm and}\\quad x_k=-1+hk$$\n",
    "We cannot in practice take the limit $N\\to\\infty$, but we can make a reasonable approximation by making $N$ large.\n",
    "1. Write a program to evaluate the integral above with $N=100$ and compare the result with the exact value. The two will not agree very well, because $N=100$ is not a sufficiently large number of slices.\n",
    "2. Increase the value of $N$ to get a more accurate value for the integral. If we require that the program runs in about one second or less, how accurate a value can you get?"
   ]
  },
  {
   "cell_type": "code",
   "execution_count": null,
   "id": "54521905",
   "metadata": {},
   "outputs": [],
   "source": []
  }
 ],
 "metadata": {
  "kernelspec": {
   "display_name": "Python 3 (ipykernel)",
   "language": "python",
   "name": "python3"
  },
  "language_info": {
   "codemirror_mode": {
    "name": "ipython",
    "version": 3
   },
   "file_extension": ".py",
   "mimetype": "text/x-python",
   "name": "python",
   "nbconvert_exporter": "python",
   "pygments_lexer": "ipython3",
   "version": "3.8.5"
  }
 },
 "nbformat": 4,
 "nbformat_minor": 5
}
