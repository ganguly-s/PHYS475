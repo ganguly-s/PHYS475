{
 "cells": [
  {
   "cell_type": "markdown",
   "id": "4f1f1bb0",
   "metadata": {},
   "source": [
    "# Accuracy and Speed\n",
    "\n",
    "## Variables and Ranges\n",
    "\n",
    "| Data type | Largest value | Smallest value |\n",
    "| --------- | --------- | --------- |\n",
    "| Float | $\\pm 10^{308}$ | $\\pm10^{-308}$ |\n",
    "| Complex (real and imaginary) | $\\pm10^{308}$ | $\\pm10^{-308}$ |\n",
    "| Integers | Computer's memory | Computer's memory |\n",
    "\n",
    "A number specified in scientific notation (say `2e9`) is a **float**, even if they are, mathematically speaking, an integer."
   ]
  },
  {
   "cell_type": "markdown",
   "id": "2976fb02",
   "metadata": {},
   "source": [
    "Any value larger than the largest value above leads to a variable **overflowing**.  \n",
    "Any value smaller than the smallest value above leads to a variable **underflowing**."
   ]
  },
  {
   "cell_type": "code",
   "execution_count": 1,
   "id": "9979ea11",
   "metadata": {},
   "outputs": [
    {
     "name": "stdout",
     "output_type": "stream",
     "text": [
      "inf\n"
     ]
    }
   ],
   "source": [
    "x = 1e308\n",
    "y = 10*x\n",
    "print(y)"
   ]
  },
  {
   "cell_type": "code",
   "execution_count": 2,
   "id": "125944e1",
   "metadata": {},
   "outputs": [
    {
     "name": "stdout",
     "output_type": "stream",
     "text": [
      "0.0\n"
     ]
    }
   ],
   "source": [
    "x = 1e-308\n",
    "y = x*x\n",
    "print(y)"
   ]
  },
  {
   "cell_type": "code",
   "execution_count": 3,
   "id": "588eb6a5",
   "metadata": {},
   "outputs": [
    {
     "name": "stdout",
     "output_type": "stream",
     "text": [
      "10715086071862673209484250490600018105614048117055336074437503883703510511249361224931983788156958581275946729175531468251871452856923140435984577574698574803934567774824230985421074605062371141877954182153046474983581941267398767559165543946077062914571196477686542167660429831652624386837205668069376\n"
     ]
    }
   ],
   "source": [
    "print(2**1000)"
   ]
  },
  {
   "cell_type": "code",
   "execution_count": 4,
   "id": "a9c49f3d",
   "metadata": {},
   "outputs": [
    {
     "name": "stdout",
     "output_type": "stream",
     "text": [
      "788657867364790503552363213932185062295135977687173263294742533244359449963403342920304284011984623904177212138919638830257642790242637105061926624952829931113462857270763317237396988943922445621451664240254033291864131227428294853277524242407573903240321257405579568660226031904170324062351700858796178922222789623703897374720000000000000000000000000000000000000000000000000\n"
     ]
    }
   ],
   "source": [
    "# comparing limits of float and integer \n",
    "# by computing factorial of a very large number\n",
    "def factorial(n):\n",
    "    if n==0 or n==1:\n",
    "        return 1\n",
    "    else:\n",
    "        return n*factorial(n-1)\n",
    "\n",
    "N = 200\n",
    "print(factorial(N))"
   ]
  },
  {
   "cell_type": "markdown",
   "id": "0a3622b8",
   "metadata": {},
   "source": [
    "## Numerical Error\n",
    "\n",
    "Floating point numbers have a precision of 16 significant digits. If a number has more digits than that, it will rounded it off.  \n",
    "The difference between the true value of a number and its value on the computer is called the **rounding error** on the number."
   ]
  },
  {
   "cell_type": "code",
   "execution_count": 5,
   "id": "2079a163",
   "metadata": {},
   "outputs": [
    {
     "name": "stdout",
     "output_type": "stream",
     "text": [
      "141658465.16516516\n"
     ]
    }
   ],
   "source": [
    "x = 141658465.16516514845116514644\n",
    "print(x)"
   ]
  },
  {
   "cell_type": "markdown",
   "id": "51711373",
   "metadata": {},
   "source": [
    "### A bad consequence\n",
    "Cannot compare equality of floats!"
   ]
  },
  {
   "cell_type": "code",
   "execution_count": 6,
   "id": "05aeb000",
   "metadata": {},
   "outputs": [
    {
     "name": "stdout",
     "output_type": "stream",
     "text": [
      "3.299999  and 3.3 are not equal\n"
     ]
    }
   ],
   "source": [
    "x = 3.299999\n",
    "if x == 3.3:\n",
    "    print(x)\n",
    "else:\n",
    "    print(x,\" and 3.3 are not equal\")"
   ]
  },
  {
   "cell_type": "code",
   "execution_count": 7,
   "id": "4ad985a2",
   "metadata": {},
   "outputs": [
    {
     "name": "stdout",
     "output_type": "stream",
     "text": [
      "3.299999  and 3.3 are not equal\n"
     ]
    }
   ],
   "source": [
    "tol = 1e-12\n",
    "if abs(x-3.3)<tol:\n",
    "    print(x)\n",
    "else:\n",
    "    print(x,\" and 3.3 are not equal\")"
   ]
  },
  {
   "cell_type": "markdown",
   "id": "6f856836",
   "metadata": {},
   "source": [
    "### Propagation of errors\n",
    "Consider the irrational number $\\pi$ saved to the variable `x`. We know that `x` would have  rounding error $\\epsilon$ such that\n",
    "$$ x + \\epsilon = \\pi $$\n",
    "| <!-- -->    | <!-- -->    |\n",
    "| ---------------- | :------------------------------- |\n",
    "| True value of $\\pi$: | 3.1415926535897932384626... |\n",
    "| Value in Python: | 3.141592653589793 |\n",
    "| Rounding error: | 0.0000000000000002384626... |\n",
    "\n",
    "The error is of the order of $x/10^{16}$ for a number of 16 digit precision.  \n",
    "A good approximation for standard deviation is \n",
    "$$ \\sigma = Cx $$\n",
    "where $C$ is the error constant. In the above example, $C\\sim10^{-16}$."
   ]
  },
  {
   "cell_type": "markdown",
   "id": "45e208d9",
   "metadata": {},
   "source": [
    "For $x_1$ (with some $\\sigma_1$) and $x_2$ (with some $\\sigma_2$), we have the standard deviation for the sum as\n",
    "$$ \\sigma = \\sqrt{\\sigma_1^2+\\sigma_2^2} = C\\sqrt{x_1^2+x_2^2} $$\n",
    "If we have a set of $N$ numbers, the standard error for $x_1+x_2+...+x_N$ would be\n",
    "$$ \\sigma = C\\sqrt{N}x_{\\rm rms} $$\n",
    "where $x_{\\rm rms}$ is the root mean squared value of the data points $x_1, x_2,...,x_N$.\n",
    "\n",
    "**As $N$ increases, $\\sigma$ increases.**"
   ]
  },
  {
   "cell_type": "markdown",
   "id": "712a3be9",
   "metadata": {},
   "source": [
    "### What about fractional error?\n",
    "\n",
    "$$ \\frac{\\sigma}{\\sum_{i=1}^N x_i} = \\frac{C\\sqrt{N}x_{\\rm rms}}{N\\bar{x}} = \\frac{C}{\\sqrt{N}}\\frac{x_{\\rm rms}}{\\bar{x}} $$\n",
    "\n",
    "Seemingly, the fractional error compared to the actual value goes down as the number of data points increases. But that is not necessarily an advantage."
   ]
  },
  {
   "cell_type": "markdown",
   "id": "c3df4cfa",
   "metadata": {},
   "source": [
    "### Example: Difference of two numbers\n",
    "\n",
    "$$ \n",
    "\\begin{align}\n",
    "    x = 1, \\qquad & y = 1+10^{-14}\\sqrt{2} \\\\\n",
    "    \\implies 10^{14}(y-x) =& \\sqrt{2}\n",
    "\\end{align}\n",
    "$$"
   ]
  },
  {
   "cell_type": "code",
   "execution_count": 8,
   "id": "684e171e",
   "metadata": {},
   "outputs": [
    {
     "name": "stdout",
     "output_type": "stream",
     "text": [
      "Python's value   =  1.4210854715202004\n",
      "True value \t =  1.4142135623730951\n"
     ]
    }
   ],
   "source": [
    "import numpy as np\n",
    "x = 1.0\n",
    "y = 1.0 + (1e-14)*np.sqrt(2)\n",
    "print(\"Python's value   = \",(1e14)*(y-x))\n",
    "print(\"True value \\t = \",np.sqrt(2))"
   ]
  },
  {
   "cell_type": "markdown",
   "id": "e6fc356a",
   "metadata": {},
   "source": [
    "**Large errors show up in calculations that involve subtraction of comparable numbers.**"
   ]
  },
  {
   "cell_type": "markdown",
   "id": "e87dab71",
   "metadata": {},
   "source": [
    "# Try it yourself\n",
    "\n",
    "### Total 4 marks\n",
    "\n",
    "Consider a quadratic equation $ax^2+bx+c=0$ that has real solutions.\n",
    "1. Write a program that takes as input the three numbers $a$, $b$ and $c$, and prints out the two solutions using the standard formula\n",
    "     $$ x = \\frac{-b\\pm\\sqrt{b^2-4ac}}{2a} $$\n",
    "    Use your program to compute the solutions of $0.001x^2+1000x+0.001=0$.\n",
    "2. There is another way to write the solutions to a quadratic equation. Multiplying top and bottom of the solution above by $-b\\mp\\sqrt{b^2-4ac}$, show that the solutions can also be written as\n",
    "    $$ x = \\frac{2c}{-b\\mp\\sqrt{b^2-4ac}} $$\n",
    "    Add further lines to your program to print these values in addition to the earlier ones and again use the program to solve $0.001x^2+1000x+0.001=0$. What do you see? How do you explain it? (answer the last part in a markdown cell in jupyter)\n",
    "3. Using what you have learned, write a new program that calculates both roots of a quadratic equation accurately in all cases."
   ]
  },
  {
   "cell_type": "code",
   "execution_count": 9,
   "id": "0d61f538",
   "metadata": {},
   "outputs": [
    {
     "name": "stdout",
     "output_type": "stream",
     "text": [
      "enter the coefficients of the quadratic equation: 0.001 1000 0.001\n",
      "Finding solutions for 0.001$x^2$ +1000$x$ +0.001 = 0\n",
      "The two roots are -9.999894245993346e-07 and -999999.999999\n"
     ]
    }
   ],
   "source": [
    "# 1\n",
    "import numpy as np\n",
    "\n",
    "a, b, c = input(r\"enter the coefficients of the quadratic equation: \").split()\n",
    "print(\"Finding solutions for \"+a+r\"$x^2$ +\"+b+r\"$x$ +\"+c+\" = 0\")\n",
    "a, b, c = float(a), float(b), float(c)\n",
    "sq = np.sqrt(b**2 - 4*a*c)\n",
    "x1 = (-b + sq)/2/a\n",
    "x2 = (-b - sq)/2/a\n",
    "print(\"The two roots are\",x1,\"and\",x2)"
   ]
  },
  {
   "cell_type": "code",
   "execution_count": 10,
   "id": "64702ef1",
   "metadata": {},
   "outputs": [
    {
     "name": "stdout",
     "output_type": "stream",
     "text": [
      "The two roots are -1.000000000001e-06 and -1000010.5755125057\n"
     ]
    }
   ],
   "source": [
    "# 2\n",
    "x1 = 2*c/(-b - sq)\n",
    "x2 = 2*c/(-b + sq)\n",
    "print(\"The two roots are\",x1,\"and\",x2)"
   ]
  },
  {
   "cell_type": "code",
   "execution_count": 11,
   "id": "31e08b92",
   "metadata": {},
   "outputs": [
    {
     "name": "stdout",
     "output_type": "stream",
     "text": [
      "1000.0 999.999999998\n",
      "1.999978849198669e-09 1999.999999998\n",
      "1000000.0 4e-06 999999.999996\n"
     ]
    }
   ],
   "source": [
    "# floating error compunded by subtracting numbers very close to each other in value\n",
    "print(b,sq)\n",
    "print(b-sq,b+sq)\n",
    "print(b**2,4*a*c,b**2-4*a*c)"
   ]
  },
  {
   "cell_type": "code",
   "execution_count": 12,
   "id": "17f582b2",
   "metadata": {},
   "outputs": [
    {
     "name": "stdout",
     "output_type": "stream",
     "text": [
      "The two roots are -1.000000000001e-06 and -999999.999999\n"
     ]
    }
   ],
   "source": [
    "# 3: mitigation by avoiding subtraction\n",
    "x1 = 2*c/(-b - sq)\n",
    "x2 = (-b - sq)/2/a\n",
    "print(\"The two roots are\",x1,\"and\",x2)"
   ]
  },
  {
   "cell_type": "markdown",
   "id": "a2b762b5",
   "metadata": {},
   "source": [
    "Floating point numbers (like any other numbers) are stored in binary format in a computer. This leads to approximations and errors. When subtracting two nearby numbers, the approximation errors are exaggerated leading to **catastrophic cancellation**.  \n",
    "It is best to avoid subtraction of nearby numbers, where possible. In the above example, we retained the formulas (in standard and alternate form) that only add to produce the roots. Hence, the final result is error-free."
   ]
  }
 ],
 "metadata": {
  "kernelspec": {
   "display_name": "Python 3 (ipykernel)",
   "language": "python",
   "name": "python3"
  },
  "language_info": {
   "codemirror_mode": {
    "name": "ipython",
    "version": 3
   },
   "file_extension": ".py",
   "mimetype": "text/x-python",
   "name": "python",
   "nbconvert_exporter": "python",
   "pygments_lexer": "ipython3",
   "version": "3.8.5"
  }
 },
 "nbformat": 4,
 "nbformat_minor": 5
}
