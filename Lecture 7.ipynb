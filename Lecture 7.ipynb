{
 "cells": [
  {
   "cell_type": "markdown",
   "id": "ddb09cc1-bb3e-417c-af43-15b2788d251e",
   "metadata": {},
   "source": [
    "# Errors on Integrals\n",
    "\n",
    "**Approximation errors** are the dominant source of error in integration operations (there is of course the obvious rounding error).  \n",
    "For example, the approximation error (upto leading order terms) for the trapezoidal rule is (or Euler-Maclaurin formula):\n",
    "$$ \\epsilon = \\frac{1}{12}h^2[f^\\prime(a)-f^\\prime(b)]$$\n",
    "(check out the beautiful derivation in section 5.2 of Newman's book)  \n",
    "Similarly, for the Simpson's rule this error is\n",
    "$$ \\epsilon = \\frac{1}{180}h^4[f^{\\prime\\prime\\prime}(a) - f^{\\prime\\prime\\prime}(b)] $$\n",
    "Thus, trapezoidal rule is a first-order integration rule, while Simpson's rule is a third-order integration rule (two orders better!)."
   ]
  },
  {
   "cell_type": "markdown",
   "id": "a3363f9c-e245-4fe0-b836-8bcfa29c22da",
   "metadata": {},
   "source": [
    "## Practical estimation of errors\n",
    "\n",
    "* Trapezoidal rule: $\\epsilon \\sim \\mathcal{O}(h^2)$\n",
    "* Simpson's rule: $\\epsilon \\sim \\mathcal{O}(h^4)$\n",
    "\n",
    "If number of steps $N$ doubles (which means $h$ halves), the error for trapezoidal rule becomes one-fourth (and one-sixteenth for Simpson's rule)."
   ]
  },
  {
   "cell_type": "markdown",
   "id": "f967f9ac-9d75-4d44-99fe-fcbb3d26d3c1",
   "metadata": {},
   "source": [
    "## Choosing the number of steps -- Adaptive Integration\n",
    "* Decide a target accuracy $\\epsilon$ for the value of the integral\n",
    "* Choose $N_1$ steps and compute integral $I_1$\n",
    "* Choose $N_2=2N_1$ steps and compute integral $I_2$\n",
    "* If $I_2-I_1<\\epsilon$, where epsilon is some tolerance (say $10^8$), stop!\n",
    "* Else, $N_3=2N_2$, and compute integral $I_3$.\n",
    "If the $i$th integration is denoted as $I_i$, then the successive integrations must be (see section 5.3)\n",
    "$$ I_i = \\frac{1}{2}I_{i-1} + h_i\\sum_{\\substack{k\\ {\\rm odd}\\\\1...N_{i-1}}} f(a+kh_i) $$"
   ]
  },
  {
   "cell_type": "markdown",
   "id": "dde206ed-aac7-4d01-9133-2b11993c2baa",
   "metadata": {},
   "source": [
    "# Try it yourself\n",
    "\n",
    "### Total 4 marks\n",
    "\n",
    "Finish the following code for adaptive integration using trapezoidal rule."
   ]
  },
  {
   "cell_type": "code",
   "execution_count": 4,
   "id": "6f1808fa-0bc6-4ff6-a75b-a778e4c1322b",
   "metadata": {},
   "outputs": [
    {
     "name": "stdout",
     "output_type": "stream",
     "text": [
      "4.406666250000001 0.019993750000000254\n",
      "4.401666640625001 0.0049996093749999915\n",
      "4.400416665039065 0.0012499755859360917\n",
      "4.400104166564945 0.0003124984741198489\n",
      "4.400026041660304 7.812490464065291e-05\n",
      "4.4000065104162704 1.9531244033643702e-05\n",
      "4.40000162760415 4.882812120854396e-06\n",
      "4.400000406901036 1.2207031137023705e-06\n",
      "4.400000101725206 3.0517582949585176e-07\n",
      "4.4000000254313205 7.629388587560015e-08\n",
      "4.400000006357826 1.9073494783583556e-08\n",
      "4.400000001589493 4.768332395599373e-09\n"
     ]
    }
   ],
   "source": [
    "# choosing a target tolerance or accuracy\n",
    "eps = 1e-8\n",
    "N = 10   # initial step size\n",
    "a = 0\n",
    "b = 2\n",
    "h = (b-a)/N\n",
    "true_val = 4.4\n",
    "\n",
    "def poly(x):\n",
    "    return x**4 - 2*x + 1\n",
    "\n",
    "# calculating first integral with N=10\n",
    "s = 0\n",
    "for i in range(1,N):\n",
    "    s += poly(a+i*h)\n",
    "    \n",
    "I1 = h*(0.5*poly(a)+0.5*poly(b) + s)\n",
    "\n",
    "# calculating the second integral with N=2N\n",
    "N *= 2\n",
    "h /= 2\n",
    "Inew = 0\n",
    "for i in range(1,N):\n",
    "    if i%2==1:   # checking if odd index\n",
    "        Inew += h*poly(a+i*h)\n",
    "Inew += 0.5*I1\n",
    "\n",
    "while(abs(Inew-I1)>eps):\n",
    "    N *= 2\n",
    "    h /= 2\n",
    "    I1 = Inew\n",
    "    Inew /= 2\n",
    "    for i in range(1,N):\n",
    "        if i%2==1:\n",
    "            Inew += h*poly(a+i*h)\n",
    "    print(Inew,abs(Inew-I1))"
   ]
  }
 ],
 "metadata": {
  "kernelspec": {
   "display_name": "Python 3 (ipykernel)",
   "language": "python",
   "name": "python3"
  },
  "language_info": {
   "codemirror_mode": {
    "name": "ipython",
    "version": 3
   },
   "file_extension": ".py",
   "mimetype": "text/x-python",
   "name": "python",
   "nbconvert_exporter": "python",
   "pygments_lexer": "ipython3",
   "version": "3.8.5"
  }
 },
 "nbformat": 4,
 "nbformat_minor": 5
}
