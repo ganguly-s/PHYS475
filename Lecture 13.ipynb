{
 "cells": [
  {
   "cell_type": "markdown",
   "id": "e253a759",
   "metadata": {},
   "source": [
    "## Eigenvalues and Eigenvectors\n",
    "\n",
    "The commonly used algorithm used to solve eigenvalue problems,\n",
    "$$ \\boldsymbol{AV} = \\boldsymbol{VD} $$ \n",
    "is the **QR Decomposition**, whereby you can write down the matrix $\\boldsymbol{A}$ as a product $\\boldsymbol{QR}$ of an orthogonal matrix $\\boldsymbol{Q}$ and an upper triangular matrix $\\boldsymbol{R}$. In the above equation, $\\boldsymbol{V}$ is the eigenvector matrix with eigenvectors $\\boldsymbol{v}_i$ as its columns, and $\\boldsymbol{D}$ is the diagonal matrix with eigenvalues $\\lambda_i$ as its diagonal elements.\n",
    "Athough the QR algorithm is simple, the calculation of the QR decomposition can be tricky, but not impossible (Exercise 6.8 goes through the steps of obtaining the decomposition and setting up the code yourself; I highly recommend it trying it out for yourself)."
   ]
  },
  {
   "cell_type": "code",
   "execution_count": null,
   "id": "d84fe229",
   "metadata": {},
   "outputs": [],
   "source": [
    "import numpy as np\n",
    "\n",
    "A = np.array([[1, 2],\n",
    "             [2, 1]],float)\n",
    "\n",
    "x, V = np.linalg.eigh(A)   # calculates eigenvalue and eigenvectors\n",
    "print(x)\n",
    "print(V)"
   ]
  },
  {
   "cell_type": "code",
   "execution_count": null,
   "id": "72eadd8d",
   "metadata": {},
   "outputs": [],
   "source": [
    "x = np.linalg.eigvalsh(A)  # calculates only eigenvalues\n",
    "print(x)"
   ]
  },
  {
   "cell_type": "code",
   "execution_count": null,
   "id": "842959cf",
   "metadata": {},
   "outputs": [],
   "source": [
    "# asymmetric matrix: Python ignores upper half of matrix\n",
    "A = np.array([[1, 0],\n",
    "             [2, 1]],float)\n",
    "x = np.linalg.eigvalsh(A)\n",
    "print(x)"
   ]
  },
  {
   "cell_type": "markdown",
   "id": "b7c24304",
   "metadata": {},
   "source": [
    "## Asymmetric Quantum Well\n",
    "\n",
    "A particle of mass $M$ is in a one-dimensional quantum well of width $L$, and arbitrary shape of $V(x)$:"
   ]
  },
  {
   "attachments": {
    "well.jpg": {
     "image/jpeg": "[encoded data removed]"
    }
   },
   "cell_type": "markdown",
   "id": "c8402c46",
   "metadata": {},
   "source": [
    "![well.jpg](attachment:well.jpg)"
   ]
  },
  {
   "cell_type": "markdown",
   "id": "ce58f21d",
   "metadata": {},
   "source": [
    "In a pure state of energy $E$, the spatial part of $\\psi(x)$ of the wavefunction obeys the time-independent Schrodinger equation: \n",
    "$$\\hat{H}\\psi(x) = E \\psi(x)$$\n",
    "where the Hamiltonian operator is given by:\n",
    "$$ \\hat{H} = - \\frac{\\hbar^2}{2M}\\frac{d^2}{dx^2} + V(x) $$\n",
    "Assuming the walls of the well are infinitely high, so that the wavefunction is zero outside the well, which means it must go to zero at $x=0$ and $x=L$. In that case, the wavefunction can be expressed as a Fourier sine series:\n",
    "$$\\psi(x) = \\sum_{n=1}^\\infty \\psi_n\\sin\\frac{\\pi nx}{L} $$\n",
    "where $\\psi_1$, $\\psi_2$, ..., are the Fourier coefficients."
   ]
  },
  {
   "cell_type": "markdown",
   "id": "69fbfac6",
   "metadata": {},
   "source": [
    "In matrix form,\n",
    "$$ \\boldsymbol{H}\\psi = E \\psi$$\n",
    "where $\\boldsymbol{H}$ is the Hamiltonian matrix, $\\psi$ is the eigenvector with eigenvalue $E$.  \n",
    "Calculating eigenvalues of $\\boldsymbol{H}$ gives us the allowed energies of the particle in the well."
   ]
  },
  {
   "cell_type": "markdown",
   "id": "cb24e419",
   "metadata": {},
   "source": [
    "For $V(x)=ax/L$, the Hamiltonian matrix is given by\n",
    "$$ \n",
    "\\begin{align}\n",
    "H_{mn} =& H_1 + H_2 \\\\\n",
    "H_1 =& \\frac{\\pi^2n^2\\hbar^2}{2ML^2} \\delta_{mn} \\\\\n",
    "H_2 =& \n",
    "\\begin{cases}\n",
    "0 & {\\rm if}\\ m \\neq n,\\ {\\rm and}\\ m,n\\ {\\rm are\\ both\\ even\\ or\\ both\\ odd}\\\\\n",
    "-\\left(\\frac{2L}{\\pi}\\right)^2\\frac{mn}{(m^2-n^2)^2} & {\\rm if}\\ m \\neq n,\\ {\\rm and\\ one\\ is\\ even,\\ one\\ is\\ odd}\\\\\n",
    "\\frac{L^2}{4} & {\\rm if}\\ m = n\n",
    "\\end{cases}\n",
    "\\end{align}\n",
    "$$"
   ]
  },
  {
   "cell_type": "code",
   "execution_count": 24,
   "id": "efa42112",
   "metadata": {},
   "outputs": [],
   "source": [
    "# constants\n",
    "h  = 6.626e-34      # Planck's constant\n",
    "hc = h/2/np.pi      # h cross or h cut = h/2pi\n",
    "M  = 9.1094e-31     # mass of electron\n",
    "L  = 5e-10          # width of well, 5 Angstrom\n",
    "a  = 10*1.6022e-19  # constant coefficient in the potential V(x), 10 eV\n",
    "\n",
    "def Hamiltonian(m,n):\n",
    "    h1 = h2 = 0\n",
    "    if m==n:\n",
    "        h1 = pow(np.pi*n*hc/L,2)/2/M\n",
    "        h2 = L*L/4.\n",
    "    else:\n",
    "        h1 = 0\n",
    "        if (m+n)%2==0:    # both odd or even\n",
    "            h2 = 0\n",
    "        else:\n",
    "            h2 = -pow(2*L/np.pi,2)*m*n/(m*m-n*n)**2\n",
    "    return h1+h2"
   ]
  },
  {
   "cell_type": "code",
   "execution_count": null,
   "id": "d95ce6b7",
   "metadata": {},
   "outputs": [],
   "source": [
    "# create a 10x10 Hamiltonian matrix\n",
    "N = 10\n",
    "H = np.empty((N,N))\n",
    "for i in range(N):\n",
    "    for j in range(N):\n",
    "        H[i,j] = Hamiltonian(i+1,j+1)\n",
    "\n",
    "E = np.linalg.eigvalsh(H)\n",
    "print(E/1.6022e-19)   # in eV"
   ]
  },
  {
   "cell_type": "markdown",
   "id": "5a2d1b6e",
   "metadata": {},
   "source": [
    "# Try it yourself\n",
    "\n",
    "### Total 4 marks\n",
    "\n",
    "Calculate the eigenvalue and eigenvector for the ground state and the first two excited states of the well. Use the three $\\psi(x)$ and plot the corresponding probability densities $|\\psi(x)|^2$ as a function of $x$."
   ]
  }
 ],
 "metadata": {
  "kernelspec": {
   "display_name": "Python 3 (ipykernel)",
   "language": "python",
   "name": "python3"
  },
  "language_info": {
   "codemirror_mode": {
    "name": "ipython",
    "version": 3
   },
   "file_extension": ".py",
   "mimetype": "text/x-python",
   "name": "python",
   "nbconvert_exporter": "python",
   "pygments_lexer": "ipython3",
   "version": "3.8.5"
  }
 },
 "nbformat": 4,
 "nbformat_minor": 5
}
