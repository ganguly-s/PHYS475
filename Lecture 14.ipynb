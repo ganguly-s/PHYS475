{
 "cells": [
  {
   "cell_type": "markdown",
   "id": "4a5435f0",
   "metadata": {},
   "source": [
    "## The Relaxation Method\n",
    "\n",
    "An elementary method for solving nonlinear equations, such as,\n",
    "$$ x = 2 - e^x $$\n",
    "* Make an initial guess for $x$\n",
    "* Plug it in the right side, to obtain an updated value of $x$ on the left side\n",
    "* Keep repeating until the guess and result converges to a *fixed point*\n",
    "\n",
    "Note that:\n",
    "* Equation must be in the form $x=f(x)$\n",
    "* In case the equation has multiple solution, the relaxation method results in the convergence to a particular solution, depending on the location of the initial guess\n",
    "* May never converge"
   ]
  },
  {
   "cell_type": "code",
   "execution_count": null,
   "id": "edf4bab6",
   "metadata": {},
   "outputs": [],
   "source": [
    "# solving for x=2-e^-x\n",
    "import numpy as np\n",
    "\n",
    "x = 1.0\n",
    "for i in range(10):\n",
    "    x = 2 - np.exp(-x)\n",
    "    print(x)"
   ]
  },
  {
   "cell_type": "code",
   "execution_count": null,
   "id": "b5d1e808",
   "metadata": {},
   "outputs": [],
   "source": [
    "import matplotlib.pyplot as plt\n",
    "\n",
    "x = np.arange(1,2.5,0.1)\n",
    "plt.plot(x,x)\n",
    "plt.plot(x,2-np.exp(-x))\n",
    "plt.grid()"
   ]
  },
  {
   "cell_type": "code",
   "execution_count": null,
   "id": "3108b937",
   "metadata": {},
   "outputs": [],
   "source": [
    "# solving for x=e^(1-x^2)\n",
    "# clearly this has a solution x = 1\n",
    "import numpy as np\n",
    "\n",
    "x = 0.5\n",
    "for i in range(10):\n",
    "    x = np.exp(1-x*x)\n",
    "    print(x)"
   ]
  },
  {
   "cell_type": "code",
   "execution_count": null,
   "id": "e8bffc76",
   "metadata": {},
   "outputs": [],
   "source": [
    "# remedy to oscillating relaxation method: rearranging the equation\n",
    "# solving for x=sqrt(1-logx)\n",
    "import numpy as np\n",
    "\n",
    "x = 0.5\n",
    "for i in range(10):\n",
    "    x = np.sqrt(1-np.log(x))\n",
    "    print(x)"
   ]
  },
  {
   "cell_type": "markdown",
   "id": "8a5f7126",
   "metadata": {},
   "source": [
    "### Criteria for convergence\n",
    "\n",
    "The relaxation method will converge to a solution at $x^*$, if and only if,\n",
    "$$ |f^\\prime(x^*)| < 1 $$\n",
    "If the relaxation method fails to converge for $x=f(x)$, it will suceed for the inverse form of the equation: $x = f^{-1}(x)$.  \n",
    "However, not all equations can be inverted. Theoretically, there is no formal way out of that situation -- we leave it up to chance.  \n",
    "\n",
    "### Error at each step\n",
    "$$ \\epsilon_i = \\frac{x_{i-1}-x_i}{1-1/f^\\prime(x^*)} \\simeq \\frac{x_{i-1}-x_i}{1-1/f^\\prime(x_{i-1})} $$"
   ]
  },
  {
   "cell_type": "markdown",
   "id": "3e455973",
   "metadata": {},
   "source": [
    "## Ferromagnetism\n",
    "\n",
    "The strength $M$ of magnetization of a ferromagnetic material like iron depends on temperature $T$ according to the formula:\n",
    "$$ M = \\mu \\tanh\\frac{JM}{k_BT} $$\n",
    "where $\\mu$ is a magnetic moment, $J$ is a coupling constant, and $k_B$ is Boltzmann's constant. With the substitution, $m=M/\\mu$ and $C=\\mu J/k_B$,\n",
    "$$ m = \\tanh \\frac{Cm}{T} $$\n",
    "What is the non-trivial solution for this equation? Assume $C=1$.   \n",
    "The error at each step is \n",
    "$$ \\epsilon_i = \\frac{m_{i-1}-m_i}{1-T\\cosh^2(m_{i-1}/T)} $$"
   ]
  },
  {
   "cell_type": "code",
   "execution_count": null,
   "id": "6f5494be",
   "metadata": {},
   "outputs": [],
   "source": [
    "import numpy as np\n",
    "import matplotlib.pyplot as plt\n",
    "\n",
    "Tmax     = 2.0\n",
    "N        = 1000    # length of temperature array\n",
    "accuracy = 1e-6\n",
    "\n",
    "m = []\n",
    "temp = np.linspace(0.01,Tmax,N)\n",
    "for T in temp:\n",
    "    m1    = 1.0   # initial guess for m\n",
    "    error = 1.0   \n",
    "    \n",
    "    while error>accuracy:\n",
    "        m1, m2 = np.tanh(m1/T), m1\n",
    "        error = abs((m1-m2)/(1-T*np.cosh(m2/T)**2))\n",
    "    m.append(m1)\n",
    "\n",
    "plt.plot(temp,m)\n",
    "plt.ylabel(r'$m$')\n",
    "plt.xlabel(r'$T$')\n",
    "plt.grid()"
   ]
  },
  {
   "cell_type": "markdown",
   "id": "10ad31e1",
   "metadata": {},
   "source": [
    "The relaxation method only finds trivial solution $m=0$ for $T>1$.  \n",
    "\n",
    "### Is this a real physical phenomenon or a numerical artifact?\n",
    "\n",
    "The plot above shows the **phase transition** of the magnet as it heats up; $T=1$ is its **critical temperature**."
   ]
  },
  {
   "cell_type": "markdown",
   "id": "cf685d24",
   "metadata": {},
   "source": [
    "## Relaxation method for two or more variables"
   ]
  },
  {
   "cell_type": "markdown",
   "id": "7edf1339",
   "metadata": {},
   "source": [
    "### Glycolysis\n",
    "\n",
    "The breakdown of glucose in the body to release energy can be modeled by the equations:\n",
    "$$ \n",
    "\\begin{align}\n",
    "\\frac{dx}{dt} =& -x + ay + x^2 y \\\\\n",
    "\\frac{dy}{dt} =& b - ay - x^2 y \n",
    "\\end{align}\n",
    "$$\n",
    "Here $x$ and $y$ represent concentrations of two chemicals, ADP and F6P, and $a$ and $b$ are positive constants.  \n",
    "The stationary points (derivatives of $x$ and $y$ become zero and their values stop changing) of this process are solutions of \n",
    "$$\n",
    "\\begin{align}\n",
    "-x + ay + x^2y =& 0 \\\\\n",
    "b -ay -x^2y =& 0\n",
    "\\end{align}\n",
    "$$\n",
    "These can be rearranged as\n",
    "$$\n",
    "\\begin{align}\n",
    "x =& y(a + x^2) \\\\\n",
    "y =& \\frac{b}{a+x^2}\n",
    "\\end{align}\n",
    "$$"
   ]
  },
  {
   "cell_type": "code",
   "execution_count": null,
   "id": "88ad34be",
   "metadata": {},
   "outputs": [],
   "source": [
    "a, b = 1, 2\n",
    "x, y = 0.5, 0.1\n",
    "xt, yt = b, b/(a+b*b)\n",
    "for i in range(10):\n",
    "    x = y*(a+x*x)\n",
    "    y = b/(a+x*x)\n",
    "    print(x,y)\n",
    "print(\"Actual solution: x =\",xt,\", y =\",yt)"
   ]
  },
  {
   "cell_type": "markdown",
   "id": "1d9a41fb",
   "metadata": {},
   "source": [
    "# Try it yourself\n",
    "\n",
    "### Total 4 marks\n",
    "\n",
    "Consider the following equation, which arises in the physics of contact processes, mathematical models of epidemics, and theory of random graphs:\n",
    "$$ x= 1 - e^{-cx} $$\n",
    "Solve for $x$ up to an accuracy of $10^{-6}$ for $c=2$."
   ]
  }
 ],
 "metadata": {
  "kernelspec": {
   "display_name": "Python 3 (ipykernel)",
   "language": "python",
   "name": "python3"
  },
  "language_info": {
   "codemirror_mode": {
    "name": "ipython",
    "version": 3
   },
   "file_extension": ".py",
   "mimetype": "text/x-python",
   "name": "python",
   "nbconvert_exporter": "python",
   "pygments_lexer": "ipython3",
   "version": "3.8.5"
  }
 },
 "nbformat": 4,
 "nbformat_minor": 5
}
