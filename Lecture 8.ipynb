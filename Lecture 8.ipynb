{
 "cells": [
  {
   "cell_type": "markdown",
   "id": "bbf7e14a",
   "metadata": {},
   "source": [
    "## Romberg Integration\n",
    "\n",
    "The adaptive integration scheme can be implemented in a way that reduces the error associated with calculating integrals, without actually resorting to more complex methods of calculation.  \n",
    "**Romberg integration** is an example of a more general technique of **Richardson extrapolation**, in which higher-order estimates of quantities are calculated iteratively from lower-order ones."
   ]
  },
  {
   "cell_type": "markdown",
   "id": "1a0dbc24",
   "metadata": {},
   "source": [
    "## Higher-order Integration methods\n",
    "\n",
    "We can create higher-order (and generally more accurate) rules by using higher-order polynomials to fit to $f(x)$, such as cubics, quartics and so on. The general form is thus,\n",
    "$$ \\int_a^bf(x)\\ dx \\simeq \\sum_{k=1}^Nw_kf(x_k) $$\n",
    "where $x_k$ are the positions of the sample points (generally, evenly spaced) at which we calculate the integrand and the $w_k$ are some set of weights.  \n",
    "(Trapezoidal rule: the first and last weights are 1/2 and all others are 1; Simpson's rule: first and last weights are 1/3, and alternate between 4/3 and 2/3 for all other slices in between)  \n",
    "Higher-order integration rules of this kind are called **Newton-Cotes formulae**, and in principle, they can be extended to any order we like."
   ]
  },
  {
   "cell_type": "markdown",
   "id": "6d43a2c6",
   "metadata": {},
   "source": [
    "## Gaussian Quadrature\n",
    "\n",
    "* Nonuniform sample points\n",
    "* Choosing sample points\n",
    "\n",
    "The most general polynomial that can be fit to a function $f(x)$ with $N$ sample points is a linear combination of polynomials of degree $N-1$:\n",
    "$$\n",
    "\\begin{align}\n",
    "\\Phi(x) =& \\sum_{k=1}^N f(x_k)\\phi_k(x) \\\\\n",
    "\\phi_k(x) =& \\prod_{\\substack{m=1...N \\\\ m\\neq k}}\\frac{(x-x_m)}{(x_k-x_m)}\n",
    "\\end{align}\n",
    "$$\n",
    "$\\phi_k$ is called an interpolating polynomial or Lagrange polynomial. For every sample point, there exists a polynomial that disappears at every other sample point.  \n",
    "To calculate the integral, we must calculate the integration over the fitted polynomial:\n",
    "$$ \\int_a^bf(x)\\ dx \\simeq \\int_a^b \\Phi(x)\\ dx = \\int_a^b \\sum_{k=1}^Nf(x_k)\\phi_k(x)\\ dx = \\sum_{k=1}^N f(x_k)\\int_a^b\\phi_k(x)\\ dx $$\n",
    "This shows that the weights needed for integration are\n",
    "$$w_k = \\int_a^b \\phi_k(x)\\ dx $$"
   ]
  },
  {
   "cell_type": "markdown",
   "id": "3ad87cbd",
   "metadata": {},
   "source": [
    "### Choosing N and calculating the weights\n",
    "\n",
    "We can choose $N$ points such that the integration rule is exact for all polynomial integrands up to $(2N-1)$ degree.\n",
    "* The sample points $x_k$ should be chosen to coincide with the zero of $N$th Legendre polynomial $P_N(x)$.\n",
    "* The weights can be evaluated as\n",
    "        $$ w_k = \\left[\\frac{2}{(1-x^2)}\\left(\\frac{dP_N}{dx}\\right)^{-2}\\right]_{x=x_k} $$\n",
    "\n",
    "The standard interval over which the weights are evaluated is $-1\\leq x_k\\leq 1$. The sample points (and weights) can then be rescaled to an interval of concern as follows:\n",
    "* $x_k^\\prime = \\frac{1}{2}(b-a)x_k + \\frac{1}{2}(b+a) $\n",
    "* $w_k^\\prime = \\frac{1}{2}(b-a)w_k$\n",
    "\n",
    "Finally, the integration is evaluated as follows:\n",
    "$$ \\int_a^b f(x)\\ dx \\simeq \\sum_{k=1}^Nw_k^{\\prime} f(x_k^{\\prime}) $$"
   ]
  },
  {
   "cell_type": "code",
   "execution_count": 4,
   "id": "2019076a",
   "metadata": {},
   "outputs": [],
   "source": [
    "# Function to calculate sample points an weights for Gaussian quadrature\n",
    "import numpy as np\n",
    "def gaussxw(N): # N is the number of sample points and order of Gaussian approximation to the integral\n",
    "\n",
    "    # Initial approximation to roots of the Legendre polynomial\n",
    "    a = np.linspace(3,4*N-1,N)/(4*N+2)\n",
    "    x = np.cos(np.pi*a+1/(8*N*N*np.tan(a)))\n",
    "\n",
    "    # Finding roots (or nodes) using Newton's method (will be taught soon)\n",
    "    epsilon = 1e-15\n",
    "    delta = 1.0\n",
    "    while delta>epsilon:\n",
    "        p0 = np.ones(N,float)\n",
    "        p1 = np.copy(x)\n",
    "        for k in range(1,N):\n",
    "            p0,p1 = p1,((2*k+1)*x*p1-k*p0)/(k+1)\n",
    "        dp = (N+1)*(p0-x*p1)/(1-x*x)\n",
    "        dx = p1/dp\n",
    "        x -= dx\n",
    "        delta = max(abs(dx))\n",
    "\n",
    "    # Calculating the weights using standard interval for Legendre polynomial\n",
    "    w = 2*(N+1)*(N+1)/(N*N*(1-x*x)*dp*dp)\n",
    "\n",
    "    return x,w"
   ]
  },
  {
   "cell_type": "code",
   "execution_count": null,
   "id": "c50085de",
   "metadata": {},
   "outputs": [],
   "source": [
    "N = 3\n",
    "a = 0.0\n",
    "b = 2.0\n",
    "\n",
    "h = (b-a)/N\n",
    "true_val = 4.4\n",
    "\n",
    "def poly(x):\n",
    "    return x**4 - 2*x + 1\n",
    "\n",
    "# obtaining the sample point using the user-defined function gaussxw\n",
    "x, w = gaussxw(N)\n",
    "# re-sampling and mapping x and w to the integration domain (a,b)\n",
    "xp = \n",
    "wp = \n",
    "\n",
    "# calculating the integration\n",
    "s = 0.0\n",
    "for k in range(N):\n",
    "    \n",
    "    \n",
    "print(s)"
   ]
  },
  {
   "cell_type": "markdown",
   "id": "79c5543c",
   "metadata": {},
   "source": [
    "### Errors on Gaussian Quadrature\n",
    "\n",
    "It is a very accurate method: just increasing $N$ by 1, reduces the error by a factor of $\\sim 1/N^2$.  \n",
    "Some disadvantages:\n",
    "* Small number of sample points does not work for functions that are not smooth -- produces large errors.\n",
    "* Very hard to estimate error because of the complicated nature of the method involved.\n",
    "* Cannot apply adaptive integration methods very effectively (nonuniform sample and poor error estimation scheme)."
   ]
  },
  {
   "cell_type": "markdown",
   "id": "17d2e37d",
   "metadata": {},
   "source": [
    "# Try it yourself\n",
    "\n",
    "### Total 4 marks\n",
    "\n",
    "Read through section 5.7 in the book or search through internet if you like (warning: you may be flooded with different integration schemes, so I'd go with the book). Write a few lines about an integration method you like and hate, and why.  \n",
    "Find a corresponding built-in integration function for the methods you chose (you have to probe a little by looking into the Python documentation). "
   ]
  },
  {
   "cell_type": "code",
   "execution_count": null,
   "id": "8f137910",
   "metadata": {},
   "outputs": [],
   "source": []
  }
 ],
 "metadata": {
  "kernelspec": {
   "display_name": "Python 3 (ipykernel)",
   "language": "python",
   "name": "python3"
  },
  "language_info": {
   "codemirror_mode": {
    "name": "ipython",
    "version": 3
   },
   "file_extension": ".py",
   "mimetype": "text/x-python",
   "name": "python",
   "nbconvert_exporter": "python",
   "pygments_lexer": "ipython3",
   "version": "3.8.5"
  }
 },
 "nbformat": 4,
 "nbformat_minor": 5
}
