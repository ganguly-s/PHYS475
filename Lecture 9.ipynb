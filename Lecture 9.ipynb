{
 "cells": [
  {
   "cell_type": "markdown",
   "id": "459a081f",
   "metadata": {},
   "source": [
    "## Integrals Over Infinite Ranges\n",
    "\n",
    "* Change of variables\n",
    "    - For the range $(0,\\infty)$, use $z=x/(1+x)$ or $z=x/(c+x)$ (for any constant value $c$) substitution.\n",
    "    - For the range $(a,\\infty)$, use $y=x-a$ and then $z=y/(c+y)$ substitution.\n",
    "    - For the range $(-\\infty,a)$, use $z\\rightarrow -z$ in the above substitution.\n",
    "    - For the range $(-\\infty,\\infty)$, divide the range into $(-\\infty,0)$ and $(0,\\infty)$ or $(-\\infty,a)$ and $(a,\\infty)$. Alternatively, use $x=\\tan z$."
   ]
  },
  {
   "cell_type": "markdown",
   "id": "21190a2b",
   "metadata": {},
   "source": [
    "## Integrate $\\int_0^\\infty e^{-t^2}$"
   ]
  },
  {
   "cell_type": "code",
   "execution_count": 2,
   "id": "8bcb325f",
   "metadata": {},
   "outputs": [],
   "source": [
    "import numpy as np\n",
    "\n",
    "# Function to calculate sample points an weights for Gaussian quadrature\n",
    "def gaussxw(N): # N is the number of sample points and order of Gaussian approximation to the integral\n",
    "\n",
    "    # Initial approximation to roots of the Legendre polynomial\n",
    "    a = np.linspace(3,4*N-1,N)/(4*N+2)\n",
    "    x = np.cos(np.pi*a+1/(8*N*N*np.tan(a)))\n",
    "\n",
    "    # Finding roots (or nodes) using Newton's method (will be taught soon)\n",
    "    epsilon = 1e-15\n",
    "    delta = 1.0\n",
    "    while delta>epsilon:\n",
    "        p0 = np.ones(N,float)\n",
    "        p1 = np.copy(x)\n",
    "        for k in range(1,N):\n",
    "            p0,p1 = p1,((2*k+1)*x*p1-k*p0)/(k+1)\n",
    "        dp = (N+1)*(p0-x*p1)/(1-x*x)\n",
    "        dx = p1/dp\n",
    "        x -= dx\n",
    "        delta = max(abs(dx))\n",
    "\n",
    "    # Calculating the weights using standard interval for Legendre polynomial\n",
    "    w = 2*(N+1)*(N+1)/(N*N*(1-x*x)*dp*dp)\n",
    "\n",
    "    return x,w"
   ]
  },
  {
   "cell_type": "code",
   "execution_count": null,
   "id": "064e017e",
   "metadata": {},
   "outputs": [],
   "source": [
    "true_val = np.sqrt(np.pi)/2\n",
    "\n",
    "def f(z):\n",
    "    t = z/(1-z)\n",
    "    return \n",
    "\n",
    "N = 50\n",
    "a = 0.0\n",
    "b = \n",
    "\n",
    "x, w = gaussxw(N)\n",
    "xp = 0.5*(b-a)*x + 0.5*(b+a)\n",
    "wp = 0.5*(b-a)*w\n",
    "\n",
    "s = 0.0\n",
    "for k in range(N):\n",
    "    s += \n",
    "    \n",
    "print(s,true_val)"
   ]
  },
  {
   "cell_type": "markdown",
   "id": "ee8f3712",
   "metadata": {},
   "source": [
    "## Multiple Integrals\n",
    "\n",
    "The easiest thing to do is to compute integrations over different quantities one after another. Applying the Gaussian quadrature method, for example, gives the Gauss-Legendre product formula.\n",
    "$$ I = \\int_0^1\\int_0^1 f(x,y) \\ dx\\ dy \\simeq \\sum_{i=1}^N\\sum_{i=1}^N w_iw_jf(x_i.y_j) $$"
   ]
  },
  {
   "cell_type": "markdown",
   "id": "325dd675",
   "metadata": {},
   "source": [
    "### Gravitational pull of a uniform sheet\n",
    "\n",
    "The gravitational force due to a square sheet at some distance $z$ from it is given by\n",
    "$$ F_z = G\\sigma z\\int\\int_{-L/2}^{L/2}\\frac{dx\\ dy}{(x^2+y^2+z^2)^{3/2}} $$\n",
    "where G is the gravitational constant and $\\sigma$ is the mass per unit area.  \n",
    "The sheet weighs $10^4$ kg and has a side measuring 10 m."
   ]
  },
  {
   "cell_type": "code",
   "execution_count": null,
   "id": "4a21e66c",
   "metadata": {},
   "outputs": [],
   "source": [
    "import matplotlib.pyplot as plt\n",
    "\n",
    "G     = 6.67e-11   # gravitational constant in SI unit\n",
    "sigma = 100        # mass per unit area of the sheet\n",
    "\n",
    "def r3inv(x,y,z):\n",
    "    return \n",
    "\n",
    "nz = 100\n",
    "z  = np.linspace(0,100,nz) # fixed z-axis\n",
    "Fz = np.zeros(nz)         # creating an empty list to store force at some z\n",
    "\n",
    "N = 100\n",
    "a = \n",
    "b = \n",
    "\n",
    "x, w = gaussxw(N)\n",
    "xp = yp = 0.5*(b-a)*x + 0.5*(b+a)\n",
    "wp = 0.5*(b-a)*w\n",
    "\n",
    "for k in range(nz):    # calculating force Fz for each z\n",
    "    s = 0.0\n",
    "    for j in range(N):\n",
    "        for i in range(N):\n",
    "            s += \n",
    "    Fz[k] = \n",
    "\n",
    "# plotting force vs z\n",
    "plt.plot(z,Fz,'k')\n",
    "plt.yscale('log')\n",
    "plt.xlabel(r'$z$')\n",
    "plt.ylabel(r'$F_z$')\n",
    "plt.show()"
   ]
  },
  {
   "cell_type": "markdown",
   "id": "8055a1d8-ec74-44fe-8fea-cc4b64da2408",
   "metadata": {},
   "source": [
    "## Derivatives\n",
    "\n",
    "* Developed later, since most derivatives can be calculated analytically\n",
    "* Unavoidable errors\n",
    "\n",
    "* Forward difference:\n",
    "$$ f^\\prime(x) \\simeq \\frac{f(x+h)-f(x)}{h} $$\n",
    "* Backward difference:\n",
    "$$ f^\\prime(x) \\simeq \\frac{f(x)-f(x-h)}{h} $$\n",
    "* Central difference:\n",
    "$$ f^\\prime(x) \\simeq \\frac{f(x+h/2)-f(x-h/2)}{h} $$\n",
    "\n",
    "### Error analysis\n",
    "\n",
    "Prone to both roubding and approximation errors.  \n",
    "* Forward/backward difference $\\epsilon \\sim \\frac{1}{2}hf^{\\prime\\prime}(x) $\n",
    "* Central difference $\\epsilon \\sim \\frac{1}{24}h^2f^{\\prime\\prime\\prime}(x) $\n",
    "\n",
    "For **Sampled Function**, central difference is only better if:\n",
    "$$ h < \\left|\\frac{f^{\\prime\\prime}(x)}{f^{\\prime\\prime\\prime}(x)} \\right| $$"
   ]
  },
  {
   "cell_type": "code",
   "execution_count": null,
   "id": "84293217-c890-43d9-be24-bed7ab375050",
   "metadata": {
    "scrolled": true
   },
   "outputs": [],
   "source": [
    "import matplotlib.pyplot as plt\n",
    "\n",
    "def func(x):\n",
    "    return 1+0.5*np.tanh(2*x)\n",
    "\n",
    "h = 0.1\n",
    "a, b = -2, 2\n",
    "x = np.arange(a,b,h)\n",
    "plt.plot(x,func(x))"
   ]
  },
  {
   "cell_type": "code",
   "execution_count": null,
   "id": "db99ebc4-d019-4e0b-ab55-305522e876af",
   "metadata": {},
   "outputs": [],
   "source": [
    "y = func(x)\n",
    "dydx = []\n",
    "\n",
    "# forward difference\n",
    "for i in range():\n",
    "    dydx.append()\n",
    "plt.plot(x[:-1],dydx)\n",
    "\n",
    "dydx = []\n",
    "# backward difference\n",
    "for i in range():\n",
    "    dydx.append()\n",
    "plt.plot(x[1:],dydx)\n",
    "\n",
    "dydx = []\n",
    "# central difference\n",
    "for i in range():\n",
    "    dydx.append()\n",
    "plt.plot(x[1:-1],dydx)"
   ]
  },
  {
   "cell_type": "code",
   "execution_count": null,
   "id": "7b3f3293-9400-4dd9-81db-385bd7f23936",
   "metadata": {},
   "outputs": [],
   "source": [
    "def func_deriv(x):\n",
    "    return 1 - np.tanh(2*x)**2\n",
    "\n",
    "plt.plot(x,func_deriv(x))"
   ]
  },
  {
   "cell_type": "markdown",
   "id": "0989e956-8fba-4aac-9cdb-7dc7096cbe6e",
   "metadata": {},
   "source": [
    "# Try it yourself\n",
    "\n",
    "### Total 4 marks\n",
    "\n",
    "Try h = {0.01, 0.001, 0.0001} for all the cases above. Repeat the calculation with forward and central difference. Calculate the error in each case, using the analytical expression and plot them against h. Does this investigation prove the condition for sampled functions:\n",
    "$$ h < \\left|\\frac{f^{\\prime\\prime}(x)}{f^{\\prime\\prime\\prime}(x)} \\right| $$"
   ]
  }
 ],
 "metadata": {
  "kernelspec": {
   "display_name": "Python 3 (ipykernel)",
   "language": "python",
   "name": "python3"
  },
  "language_info": {
   "codemirror_mode": {
    "name": "ipython",
    "version": 3
   },
   "file_extension": ".py",
   "mimetype": "text/x-python",
   "name": "python",
   "nbconvert_exporter": "python",
   "pygments_lexer": "ipython3",
   "version": "3.12.4"
  }
 },
 "nbformat": 4,
 "nbformat_minor": 5
}
