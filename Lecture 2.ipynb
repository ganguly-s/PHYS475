{
 "cells": [
  {
   "cell_type": "markdown",
   "id": "1ea824ee",
   "metadata": {},
   "source": [
    "# Python Basics\n",
    "\n",
    "## Containers -- Lists and Arrays\n",
    "\n",
    "A **list** is a list of quantities of some kind -- integers, floats, strings, ... (not necessarily all the same! but generally is!!!)  \n",
    "Quantities in a list are called **elements**."
   ]
  },
  {
   "cell_type": "code",
   "execution_count": 1,
   "id": "af6cad03",
   "metadata": {},
   "outputs": [
    {
     "name": "stdout",
     "output_type": "stream",
     "text": [
      "list index 2 = 3.4\n",
      "list index -1 =  4.5\n"
     ]
    }
   ],
   "source": [
    "# empty list\n",
    "my_list = []\n",
    "\n",
    "# list of integers\n",
    "my_list = [1, 2, 3]\n",
    "\n",
    "# list with mixed datatypes\n",
    "my_list = [1, \"Hello\", 3.4, 4.5]\n",
    "\n",
    "# access list through index, the index starts with 0\n",
    "print(\"list index 2 =\",my_list[2])\n",
    "\n",
    "# the index can be negative\n",
    "print(\"list index -1 = \",my_list[-1])"
   ]
  },
  {
   "cell_type": "code",
   "execution_count": 2,
   "id": "3417a23e",
   "metadata": {},
   "outputs": [
    {
     "name": "stdout",
     "output_type": "stream",
     "text": [
      "[1, 3, 2, 4, 5]\n"
     ]
    }
   ],
   "source": [
    "# List are mutable\n",
    "array=[1,3,2,5,5]\n",
    "\n",
    "# change the forth element\n",
    "array[3]=4\n",
    "\n",
    "print(array)"
   ]
  },
  {
   "cell_type": "code",
   "execution_count": 3,
   "id": "319f4370",
   "metadata": {},
   "outputs": [
    {
     "name": "stdout",
     "output_type": "stream",
     "text": [
      "[1, 3, 2, 4, 5, 6]\n",
      "[3, 2, 4, 5, 6]\n",
      "[3, 2, 4, 5]\n"
     ]
    }
   ],
   "source": [
    "# add element at the end\n",
    "array.append(6)\n",
    "print(array)\n",
    "\n",
    "# delete element at index\n",
    "del array[0]\n",
    "print (array)\n",
    "\n",
    "# delete element from the end\n",
    "array.pop()   # add an index inside the brackets to remove from specific position\n",
    "print (array)"
   ]
  },
  {
   "cell_type": "code",
   "execution_count": 4,
   "id": "e46b60f0",
   "metadata": {},
   "outputs": [
    {
     "name": "stdout",
     "output_type": "stream",
     "text": [
      "[1, 2, 4, 8, 16, 32, 64, 128, 256, 512]\n"
     ]
    }
   ],
   "source": [
    "#Fancy way to create a list: List Comprehension\n",
    "pow2 = [2 ** x for x in range(10)]\n",
    "print(pow2)"
   ]
  },
  {
   "cell_type": "code",
   "execution_count": 5,
   "id": "08473123",
   "metadata": {},
   "outputs": [
    {
     "name": "stdout",
     "output_type": "stream",
     "text": [
      "True\n",
      "False\n"
     ]
    }
   ],
   "source": [
    "# membership operators: in, not in\n",
    "a=[1,2,3,4]\n",
    "print(1 in a)\n",
    "print(1 not in a)"
   ]
  },
  {
   "cell_type": "markdown",
   "id": "60775f70",
   "metadata": {},
   "source": [
    "Arrays are also an ordered set of values, like lists. They differ from lists as follows:\n",
    "* Number of elements in an array is **fixed**. Cannot add or remove elements once created.\n",
    "* Elements **must** be of same type.\n",
    "\n",
    "Arrays have certain advantages over lists:\n",
    "* Can be two-dimensional or n-dimensional, like matrices or tensors.\n",
    "* Can perform arithmetic operations on them, like vectors or matrices.\n",
    "* Are faster!\n",
    "\n",
    "Arrays can be created using the **numpy** package."
   ]
  },
  {
   "cell_type": "code",
   "execution_count": 6,
   "id": "6f9d48a8",
   "metadata": {},
   "outputs": [
    {
     "name": "stdout",
     "output_type": "stream",
     "text": [
      "[0. 0. 0. 0.]\n",
      "[[0. 0. 0. 0.]\n",
      " [0. 0. 0. 0.]\n",
      " [0. 0. 0. 0.]]\n",
      "[0. 0. 0. 0.]\n",
      "[[[1. 1.]\n",
      "  [1. 1.]]\n",
      "\n",
      " [[1. 1.]\n",
      "  [1. 1.]]]\n"
     ]
    }
   ],
   "source": [
    "import numpy as np      # using a short nickname for the package\n",
    "\n",
    "# array of 4 zeros and floating-point data type\n",
    "a = np.zeros(4,float)   \n",
    "print(a)\n",
    "\n",
    "# 2D array of 3x4 size populated with zeros\n",
    "a = np.zeros([3,4],float)   \n",
    "print(a)\n",
    "\n",
    "# empty array\n",
    "a = np.empty(4,float)   \n",
    "print(a)\n",
    "\n",
    "# create a 3D array of 2x2x2 size populated with ones (use the function ones())\n",
    "a = np.ones([2,2,2],float)\n",
    "print(a)"
   ]
  },
  {
   "cell_type": "code",
   "execution_count": 7,
   "id": "d2bd1495",
   "metadata": {},
   "outputs": [
    {
     "name": "stdout",
     "output_type": "stream",
     "text": [
      "[1.0, 1.5, -2.2] [ 1.   1.5 -2.2]\n",
      "<class 'list'> <class 'numpy.ndarray'>\n"
     ]
    }
   ],
   "source": [
    "# converting list to array\n",
    "r = [1.0, 1.5, -2.2]\n",
    "a = np.array(r,float)\n",
    "print(r,a)\n",
    "print(type(r),type(a))"
   ]
  },
  {
   "cell_type": "markdown",
   "id": "9885c813",
   "metadata": {},
   "source": [
    "### Reading array from file -- loadtxt\n",
    "\n",
    "* Create a text file with the following data:  \n",
    "    1.0  \n",
    "    1.5  \n",
    "    -2.2  \n",
    "    2.6  \n",
    "* Save the file as \"values.txt\", in the same directory as this code.\n",
    "* Run the following code."
   ]
  },
  {
   "cell_type": "code",
   "execution_count": 8,
   "id": "55c5de06",
   "metadata": {},
   "outputs": [
    {
     "name": "stdout",
     "output_type": "stream",
     "text": [
      "[[1. 2. 3. 4.]\n",
      " [3. 4. 5. 6.]\n",
      " [5. 6. 7. 8.]]\n"
     ]
    }
   ],
   "source": [
    "a = np.loadtxt(\"values.txt\",float)\n",
    "print(a)"
   ]
  },
  {
   "cell_type": "markdown",
   "id": "bc09b2a5",
   "metadata": {},
   "source": [
    "Repeat this with the data in \"values.txt\" updated to the following:  \n",
    "1 2 3 4  \n",
    "3 4 5 6  \n",
    "5 6 7 8"
   ]
  },
  {
   "cell_type": "markdown",
   "id": "2062b646",
   "metadata": {},
   "source": [
    "## Arithmetic with Arrays"
   ]
  },
  {
   "cell_type": "code",
   "execution_count": 9,
   "id": "0774378e",
   "metadata": {},
   "outputs": [
    {
     "name": "stdout",
     "output_type": "stream",
     "text": [
      "[ 3  6  9 12]\n"
     ]
    }
   ],
   "source": [
    "# addition\n",
    "a = np.array([1,2,3,4])\n",
    "b = np.array([2,4,6,8])\n",
    "print(a+b)"
   ]
  },
  {
   "cell_type": "code",
   "execution_count": 10,
   "id": "b02c18e0",
   "metadata": {},
   "outputs": [
    {
     "name": "stdout",
     "output_type": "stream",
     "text": [
      "[2 4 6 8]\n"
     ]
    }
   ],
   "source": [
    "# scalar multiplication\n",
    "c = 2*a\n",
    "print(c)"
   ]
  },
  {
   "cell_type": "code",
   "execution_count": 11,
   "id": "b0cc9747",
   "metadata": {},
   "outputs": [
    {
     "name": "stdout",
     "output_type": "stream",
     "text": [
      "[ 2  8 18 32]\n"
     ]
    }
   ],
   "source": [
    "# element by element multiplication, not vector product!!\n",
    "print(a*b)"
   ]
  },
  {
   "cell_type": "markdown",
   "id": "9f0a713b",
   "metadata": {},
   "source": [
    "### Matrix multiplication\n",
    "Consider the matrices:\n",
    "$$ \n",
    "\\boldsymbol{a} = \n",
    "\\begin{bmatrix}\n",
    "1 & 2 & 3 & 4\n",
    "\\end{bmatrix}, \\quad \\boldsymbol{b} = \\begin{bmatrix}\n",
    "2 \\\\\n",
    "4 \\\\\n",
    "6 \\\\\n",
    "8\n",
    "\\end{bmatrix}\n",
    "$$\n",
    "Its matrix multiplication is calculated as:\n",
    "$$\\begin{align*}\n",
    "\\boldsymbol{a}\\boldsymbol{b} =& \\begin{bmatrix}\n",
    "1 & 2 & 3 & 4\n",
    "\\end{bmatrix}\n",
    "\\begin{bmatrix}\n",
    "2 \\\\\n",
    "4 \\\\\n",
    "6 \\\\\n",
    "8\n",
    "\\end{bmatrix}\\\\\n",
    "=& \\begin{bmatrix}\n",
    "1\\times2+2\\times4+3\\times6+4\\times8\n",
    "\\end{bmatrix}\\\\\n",
    "=& \\begin{bmatrix}\n",
    "60\n",
    "\\end{bmatrix}\n",
    "\\end{align*}\n",
    "$$"
   ]
  },
  {
   "cell_type": "code",
   "execution_count": 12,
   "id": "d7382add",
   "metadata": {},
   "outputs": [
    {
     "name": "stdout",
     "output_type": "stream",
     "text": [
      "60\n"
     ]
    }
   ],
   "source": [
    "# matrix multiplication\n",
    "print(np.dot(a,b))"
   ]
  },
  {
   "cell_type": "markdown",
   "id": "5ec6e1d8",
   "metadata": {},
   "source": [
    "Compute the following matrix multiplication by hand first:\n",
    "$$\n",
    "\\begin{pmatrix}\n",
    "1 & 3\\\\\n",
    "2 & 4\n",
    "\\end{pmatrix}\n",
    "\\begin{pmatrix}\n",
    "4 & -2 \\\\\n",
    "-3 & 1\n",
    "\\end{pmatrix}\n",
    "$$"
   ]
  },
  {
   "cell_type": "markdown",
   "id": "44bbc11f",
   "metadata": {},
   "source": [
    "$$\n",
    "\\begin{pmatrix}\n",
    "1 & 3\\\\\n",
    "2 & 4\n",
    "\\end{pmatrix}\n",
    "\\begin{pmatrix}\n",
    "4 & -2 \\\\\n",
    "-3 & 1\n",
    "\\end{pmatrix} = \n",
    "\\begin{pmatrix}\n",
    "1\\times4+3\\times(-3) & 1\\times(-2)+3\\times1\\\\\n",
    "2\\times4 + 4\\times(-3) & 2\\times(-2)+4\\times1\n",
    "\\end{pmatrix} = \n",
    "\\begin{pmatrix}\n",
    "-5 & 1 \\\\\n",
    "-4 & 0\n",
    "\\end{pmatrix}\n",
    "$$"
   ]
  },
  {
   "cell_type": "code",
   "execution_count": 13,
   "id": "7ab70ceb",
   "metadata": {},
   "outputs": [
    {
     "name": "stdout",
     "output_type": "stream",
     "text": [
      "Matrix multiplication of a and b is:\n",
      "[[-5.  1.]\n",
      " [-4.  0.]]\n",
      "From numpy.dot():\n",
      "[[-5  1]\n",
      " [-4  0]]\n"
     ]
    }
   ],
   "source": [
    "# code the matrix multiplication here\n",
    "a = np.array([[1,3],[2,4]])\n",
    "b = np.array([[4,-2],[-3,1]])\n",
    "\n",
    "arow, acol = len(a), len(a[0])\n",
    "brow, bcol = len(b), len(b[0])\n",
    "\n",
    "if acol!=brow:\n",
    "    print(\"Error! Matrix multiplication not possible! Check the dimensions of a and b.\")\n",
    "else:\n",
    "    c = np.zeros([arow,bcol])\n",
    "    for i in range(arow):\n",
    "        for j in range(bcol):\n",
    "            for k in range(acol):\n",
    "                c[i][j] += a[i][k]*b[k][j]\n",
    "    print(\"Matrix multiplication of a and b is:\")\n",
    "    print(c)\n",
    "    print(\"From numpy.dot():\")\n",
    "    print(np.dot(a,b))"
   ]
  },
  {
   "cell_type": "markdown",
   "id": "1f9e9464",
   "metadata": {},
   "source": [
    "### Other handy functions"
   ]
  },
  {
   "cell_type": "code",
   "execution_count": 14,
   "id": "f71ed617",
   "metadata": {},
   "outputs": [
    {
     "name": "stdout",
     "output_type": "stream",
     "text": [
      "4\n"
     ]
    }
   ],
   "source": [
    "import numpy as np\n",
    "\n",
    "# length of an array (1D)\n",
    "a = np.array([1,2,3,4])\n",
    "print(len(a))"
   ]
  },
  {
   "cell_type": "code",
   "execution_count": 15,
   "id": "37fe68dd",
   "metadata": {},
   "outputs": [
    {
     "name": "stdout",
     "output_type": "stream",
     "text": [
      "6\n",
      "(2, 3)\n"
     ]
    }
   ],
   "source": [
    "# size and shape of higher dimensional arrays\n",
    "a = np.array([[1,2,3],[4,5,6]])\n",
    "print(a.size)\n",
    "print(a.shape)"
   ]
  },
  {
   "cell_type": "markdown",
   "id": "7751926c",
   "metadata": {},
   "source": [
    "Use data extracted from \"values.txt\" above and calculate the mean of the data. Do this calculation explicitly first. Then compare with the `mean()` function."
   ]
  },
  {
   "cell_type": "code",
   "execution_count": 16,
   "id": "8e34ca79",
   "metadata": {},
   "outputs": [
    {
     "name": "stdout",
     "output_type": "stream",
     "text": [
      "Values in data file:\n",
      "[[1. 2. 3. 4.]\n",
      " [3. 4. 5. 6.]\n",
      " [5. 6. 7. 8.]]\n",
      "Mean of elements in a: 4.5\n"
     ]
    }
   ],
   "source": [
    "# calculate mean explicitly\n",
    "a = np.loadtxt(\"values.txt\")\n",
    "print(\"Values in data file:\")\n",
    "print(a)\n",
    "row, col = len(a), len(a[0])\n",
    "s = 0\n",
    "for i in range(row):\n",
    "    for j in range(col):\n",
    "        s += a[i][j]\n",
    "print(\"Mean of elements in a:\",s/row/col)"
   ]
  },
  {
   "cell_type": "code",
   "execution_count": 17,
   "id": "36e7c41e",
   "metadata": {},
   "outputs": [
    {
     "name": "stdout",
     "output_type": "stream",
     "text": [
      "Mean calculated by numpy.mean(): 4.5\n"
     ]
    }
   ],
   "source": [
    "# use mean() to calculate mean\n",
    "print(\"Mean calculated by numpy.mean():\",np.mean(a))"
   ]
  },
  {
   "cell_type": "markdown",
   "id": "c454f9ad",
   "metadata": {},
   "source": [
    "Now run the following code and try to understand the output it produces (check out this website: <https://www.stat.berkeley.edu/~spector/extension/python/notes/node53.html>)."
   ]
  },
  {
   "cell_type": "code",
   "execution_count": 18,
   "id": "01b7b326",
   "metadata": {},
   "outputs": [
    {
     "name": "stdout",
     "output_type": "stream",
     "text": [
      "[2 1]\n",
      "[2 1]\n"
     ]
    }
   ],
   "source": [
    "a = np.array([1,1])\n",
    "b = a   # variable b holds the address to variable a\n",
    "a [0] = 2    # any change in a is thus, reflected in b\n",
    "print(a)\n",
    "print(b)"
   ]
  },
  {
   "cell_type": "code",
   "execution_count": 19,
   "id": "bf007b53",
   "metadata": {},
   "outputs": [
    {
     "name": "stdout",
     "output_type": "stream",
     "text": [
      "[2 1]\n",
      "[1 1]\n"
     ]
    }
   ],
   "source": [
    "a = np.array([1,1])\n",
    "b = np.copy(a)      \n",
    "#b = np.array([i for i in a])    # another way of creating a copy\n",
    "a [0] = 2\n",
    "print(a)\n",
    "print(b)"
   ]
  },
  {
   "cell_type": "markdown",
   "id": "240a1788",
   "metadata": {},
   "source": [
    "## Slicing\n",
    "\n",
    "Works with both lists and arrays. Let us say we have a list `r`. Then `r[m:n]` is a subset of `r`, starting with element `m` and going up to **`n-1`th element**."
   ]
  },
  {
   "cell_type": "code",
   "execution_count": 20,
   "id": "553f4efd",
   "metadata": {},
   "outputs": [
    {
     "name": "stdout",
     "output_type": "stream",
     "text": [
      "[ 6  8 10]\n"
     ]
    }
   ],
   "source": [
    "a = np.array([2,4,6,8,10,12,14,16])\n",
    "# elements with index 2 to 4\n",
    "print(a[2:5])"
   ]
  },
  {
   "cell_type": "code",
   "execution_count": 21,
   "id": "2b098d8d",
   "metadata": {},
   "outputs": [
    {
     "name": "stdout",
     "output_type": "stream",
     "text": [
      "list index 2 to the end =  [ 6  8 10 12 14 16]\n",
      "list index 0 to 2 =  [2 4 6]\n"
     ]
    }
   ],
   "source": [
    "# or you can select several elements in the list using colon\n",
    "print(\"list index 2 to the end = \",a[2:])   # same as a[2:len(a)]\n",
    "print(\"list index 0 to 2 = \",a[:3])         # same as a[0:3]"
   ]
  },
  {
   "cell_type": "code",
   "execution_count": 22,
   "id": "2ee383fa",
   "metadata": {},
   "outputs": [
    {
     "name": "stdout",
     "output_type": "stream",
     "text": [
      "[ 2  4  6  8 10 12 14 16]\n"
     ]
    }
   ],
   "source": [
    "# all elements\n",
    "print(a[:])"
   ]
  },
  {
   "cell_type": "markdown",
   "id": "a9e97b87",
   "metadata": {},
   "source": [
    "## For loops"
   ]
  },
  {
   "cell_type": "code",
   "execution_count": 23,
   "id": "73e56cba",
   "metadata": {},
   "outputs": [
    {
     "name": "stdout",
     "output_type": "stream",
     "text": [
      "Square of 1 is 1\n",
      "Square of 3 is 9\n",
      "Square of 5 is 25\n",
      "Finished\n"
     ]
    }
   ],
   "source": [
    "r = [1, 3, 5]\n",
    "for n in r:\n",
    "    print(\"Square of\",n,\"is\",n**2)\n",
    "print(\"Finished\")"
   ]
  },
  {
   "cell_type": "code",
   "execution_count": 24,
   "id": "5a4eb016",
   "metadata": {},
   "outputs": [
    {
     "name": "stdout",
     "output_type": "stream",
     "text": [
      "Square of 1 is 1\n",
      "Square of 3 is 9\n",
      "Square of 5 is 25\n",
      "Finished\n"
     ]
    }
   ],
   "source": [
    "for n in range(1,6,2):\n",
    "    print(\"Square of\",n,\"is\",n**2)\n",
    "print(\"Finished\")"
   ]
  },
  {
   "cell_type": "markdown",
   "id": "8d3a320d",
   "metadata": {},
   "source": [
    "## User-defined function"
   ]
  },
  {
   "cell_type": "code",
   "execution_count": 25,
   "id": "34e0c7b6",
   "metadata": {},
   "outputs": [
    {
     "name": "stdout",
     "output_type": "stream",
     "text": [
      "10\n"
     ]
    }
   ],
   "source": [
    "# write a summation function of your own\n",
    "def summation(arr):    # function definition: def keyword defines the function, summation is the function name\n",
    "    val = 0\n",
    "    for a in arr:\n",
    "        val += a\n",
    "    return val         # returning the final result\n",
    "\n",
    "arr = np.array([1,2,3,4])\n",
    "s   = summation(arr)   # function call\n",
    "print(s)"
   ]
  },
  {
   "cell_type": "markdown",
   "id": "f666cd07",
   "metadata": {},
   "source": [
    "### Recursion -- function calling itself\n",
    "The factorial of a number is defined as\n",
    "$$ n! = 1\\times 2 \\times 3 \\times ... n $$\n",
    "This can also be written as\n",
    "$$ n! = n(n-1)!$$\n",
    "with the special cases: $1!=1$ and $0!=1$. Thus, we can write this as\n",
    "$$n!=\\begin{cases}\n",
    "1 & {\\rm if}\\ n=0\\ {\\rm or}\\ n=1 \\\\\n",
    "n(n-1)! & {\\rm if}\\ n>1\n",
    "\\end{cases}$$"
   ]
  },
  {
   "cell_type": "code",
   "execution_count": 26,
   "id": "e34dd4c0",
   "metadata": {},
   "outputs": [
    {
     "name": "stdout",
     "output_type": "stream",
     "text": [
      "24\n"
     ]
    }
   ],
   "source": [
    "# recursion to calculate factorial\n",
    "def factorial(n):\n",
    "    if n==0 or n==1:\n",
    "        return 1\n",
    "    else:\n",
    "        return n*factorial(n-1)\n",
    "N = 4\n",
    "print(factorial(N))"
   ]
  },
  {
   "cell_type": "markdown",
   "id": "47cfd0c0",
   "metadata": {},
   "source": [
    "### Good programming practices\n",
    "\n",
    "* Include comments\n",
    "* Use meaningful variable names\n",
    "* Functions/modules are always imported at the beginning\n",
    "* Give names to constants and assign them in the beginning\n",
    "* Print out partial results and updates throughout the program\n",
    "* Lay out programs clearly: use space appropriately; long expressions can be broken down into multiple lines using '\\'\n",
    "* Keep it simple!"
   ]
  },
  {
   "cell_type": "markdown",
   "id": "c45da223",
   "metadata": {},
   "source": [
    "# Try it yourself\n",
    "\n",
    "### Total 4 marks (2 marks each)\n",
    "\n",
    "1. Suppose arrays a and b are defined as follows:  \n",
    "`from numpy import array`  \n",
    "`a = array([1,2,3,4])`  \n",
    "`b = array([2,4,6,8])`  \n",
    "   What will the computer print upon executing the following:  \n",
    "        i. `print(b/a+1)`  \n",
    "        ii. `print(b/(a+1))`  \n",
    "        iii. `print(1/a)`  \n",
    "    First calculate these by hand and show your work. Then write a code to print the results and compare."
   ]
  },
  {
   "cell_type": "markdown",
   "id": "12fd7f35",
   "metadata": {},
   "source": [
    "i. $ \\frac{b}{a} + 1 = \\frac{[2,4,6,8]}{[1,2,3,4]}+1 = [2,2,2,2] + 1 = [3,3,3,3] $  \n",
    "ii. $ \\frac{b}{a+1} = \\frac{[2,4,6,8]}{[1,2,3,4]+1} = \\frac{[2,4,6,8]}{[2,3,4,5]} = [1,1.33,2,1.6]$  \n",
    "iii. $ \\frac{1}{a} = \\frac{1}{[1,2,3,4]} = [1,0.5,0.33,0.25] $"
   ]
  },
  {
   "cell_type": "code",
   "execution_count": 27,
   "id": "b28655db",
   "metadata": {},
   "outputs": [
    {
     "name": "stdout",
     "output_type": "stream",
     "text": [
      "b/a+1: [3. 3. 3. 3.]\n",
      "b/(a+1): [1.         1.33333333 1.5        1.6       ]\n",
      "1/a: [1.         0.5        0.33333333 0.25      ]\n"
     ]
    }
   ],
   "source": [
    "import numpy as np\n",
    "\n",
    "a = np.array([1,2,3,4])\n",
    "b = np.array([2,4,6,8])\n",
    "\n",
    "print(\"b/a+1:\",b/a+1)\n",
    "print(\"b/(a+1):\",b/(a+1))\n",
    "print(\"1/a:\",1/a)"
   ]
  },
  {
   "cell_type": "markdown",
   "id": "e473166c",
   "metadata": {},
   "source": [
    "2. Calculate the sum of first N natural numbers using a for loop. Ask user to enter a value for N. Verify this result using the standard formula:  \n",
    "$$ S_N = \\frac{N(N+1)}{2}$$    "
   ]
  },
  {
   "cell_type": "code",
   "execution_count": 28,
   "id": "46c41e44",
   "metadata": {},
   "outputs": [
    {
     "name": "stdout",
     "output_type": "stream",
     "text": [
      "Enter N for the sum of first N natural numbers: 10\n",
      "The sum of first 10 natural numbers is 55\n",
      "This matches with the formula for the sum of first N natural numbers, N(N+1)/2: 55.0\n"
     ]
    }
   ],
   "source": [
    "N = int(input(\"Enter N for the sum of first N natural numbers: \"))\n",
    "s = 0\n",
    "for i in range(1,N+1):\n",
    "    s += i\n",
    "print(\"The sum of first\",N,\"natural numbers is\",s)\n",
    "print(\"This matches with the formula for the sum of first N natural numbers, N(N+1)/2:\",N*(N+1)/2)"
   ]
  }
 ],
 "metadata": {
  "kernelspec": {
   "display_name": "Python 3 (ipykernel)",
   "language": "python",
   "name": "python3"
  },
  "language_info": {
   "codemirror_mode": {
    "name": "ipython",
    "version": 3
   },
   "file_extension": ".py",
   "mimetype": "text/x-python",
   "name": "python",
   "nbconvert_exporter": "python",
   "pygments_lexer": "ipython3",
   "version": "3.8.5"
  }
 },
 "nbformat": 4,
 "nbformat_minor": 5
}
